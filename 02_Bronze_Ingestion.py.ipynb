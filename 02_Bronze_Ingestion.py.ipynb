{
 "cells": [
  {
   "cell_type": "code",
   "execution_count": 0,
   "metadata": {
    "application/vnd.databricks.v1+cell": {
     "cellMetadata": {
      "byteLimit": 2048000,
      "rowLimit": 10000
     },
     "inputWidgets": {},
     "nuid": "80cb3291-e9ad-4fbf-997f-76cca495244c",
     "showTitle": false,
     "tableResultSettingsMap": {},
     "title": ""
    }
   },
   "outputs": [
    {
     "output_type": "stream",
     "name": "stdout",
     "output_type": "stream",
     "text": [
      "✅ Asegurando directorio de checkpoint: /Volumes/fraude_qr/bronze/raw_data/checkpoints/transactions\n✅ Asegurando directorio de esquema: /Volumes/fraude_qr/bronze/raw_data/schema/transactions\n\uD83D\uDCC2 Leyendo desde: /Volumes/fraude_qr/bronze/raw_data/synthetic_data/synthetic_qr_transactions\n\uD83D\uDCBE Escribiendo en: fraude_qr.bronze.qr_transactions_raw\n\uD83E\uDDF9 Reiniciando estado de checkpoint...\n✅ Checkpoint eliminado.\n\uD83D\uDCC2 Creando nuevo directorio de checkpoint...\n✅ Checkpoint reinicializado.\n\uD83D\uDE80 Iniciando ingesta...\n✅ ¡Ingesta completada exitosamente!\n"
     ]
    }
   ],
   "source": [
    "# MAGIC %md\n",
    "# MAGIC # \uD83D\uDCE5 02_Bronze_Ingestion\n",
    "# MAGIC Ingesta datos sintéticos desde Volume a tabla Delta Bronze usando Auto Loader.\n",
    "# MAGIC - Lee desde `/Volumes/fraude_qr/bronze/raw_data/synthetic_data/synthetic_qr_transactions`\n",
    "# MAGIC - Escribe en `fraude_qr.bronze.qr_transactions_raw`\n",
    "# MAGIC - Maneja partición `date` explícitamente\n",
    "# MAGIC - Incluye columna residual `__index_level_0__` (se eliminará en Silver)\n",
    "# MAGIC - Compatible con el esquema generado por tu notebook 01.\n",
    "\n",
    "# COMMAND ----------\n",
    "\n",
    "from pyspark.sql.functions import current_timestamp, col\n",
    "from pyspark.sql.types import StructType, StructField, StringType, LongType, DoubleType, TimestampType\n",
    "\n",
    "# --- 1. Configuración de Rutas ---\n",
    "base_volume_path = \"/Volumes/fraude_qr/bronze/raw_data\"\n",
    "source_data_path = f\"{base_volume_path}/synthetic_data/synthetic_qr_transactions\"\n",
    "bronze_table_name = \"fraude_qr.bronze.qr_transactions_raw\"\n",
    "checkpoint_path = f\"{base_volume_path}/checkpoints/transactions\"\n",
    "schema_path = f\"{base_volume_path}/schema/transactions\"\n",
    "\n",
    "# --- 2. Crear Directorios de Control ---\n",
    "print(f\"✅ Asegurando directorio de checkpoint: {checkpoint_path}\")\n",
    "dbutils.fs.mkdirs(checkpoint_path)\n",
    "\n",
    "print(f\"✅ Asegurando directorio de esquema: {schema_path}\")\n",
    "dbutils.fs.mkdirs(schema_path)\n",
    "\n",
    "# --- 3. Definir Esquema Explícito (Adaptado a tu generador) ---\n",
    "# ⚠️ Incluye __index_level_0__ porque viene del Parquet generado por pandas.\n",
    "# ⚠️ 'date' es StringType porque viene de la partición de archivo.\n",
    "schema = StructType([\n",
    "    StructField(\"tx_id\", LongType(), True),\n",
    "    StructField(\"merchant_id\", LongType(), True),\n",
    "    StructField(\"payer_id\", LongType(), True),\n",
    "    StructField(\"device_id\", StringType(), True),\n",
    "    StructField(\"created_at\", TimestampType(), True),      # Spark lo leerá como timestamp_ntz\n",
    "    StructField(\"currency\", StringType(), True),\n",
    "    StructField(\"qr_type\", StringType(), True),\n",
    "    StructField(\"channel\", StringType(), True),\n",
    "    StructField(\"has_error\", LongType(), True),\n",
    "    StructField(\"amount\", DoubleType(), True),\n",
    "    StructField(\"merchant_lat\", DoubleType(), True),\n",
    "    StructField(\"merchant_lon\", DoubleType(), True),\n",
    "    StructField(\"mcc\", LongType(), True),\n",
    "    StructField(\"payer_lat\", DoubleType(), True),\n",
    "    StructField(\"payer_lon\", DoubleType(), True),\n",
    "    StructField(\"is_fraud\", LongType(), True),\n",
    "    StructField(\"qr_hash\", StringType(), True),\n",
    "    StructField(\"error_code\", StringType(), True),\n",
    "    StructField(\"__index_level_0__\", LongType(), True),    # ← ¡Columna residual de pandas! Se eliminará en Silver.\n",
    "    StructField(\"date\", StringType(), True)                # ← ¡Viene de partición, debe ser STRING!\n",
    "])\n",
    "\n",
    "# --- 4. Configurar Auto Loader ---\n",
    "print(f\"\uD83D\uDCC2 Leyendo desde: {source_data_path}\")\n",
    "print(f\"\uD83D\uDCBE Escribiendo en: {bronze_table_name}\")\n",
    "\n",
    "bronze_df = (\n",
    "    spark.readStream\n",
    "    .format(\"cloudFiles\")\n",
    "    .option(\"cloudFiles.format\", \"parquet\")\n",
    "    .option(\"cloudFiles.schemaLocation\", schema_path)\n",
    "    .option(\"cloudFiles.partitionColumns\", \"date\")         # ← ¡CLAVE! Declara partición explícitamente.\n",
    "    .option(\"mergeSchema\", \"true\")\n",
    "    .schema(schema)                                        # ← Usa esquema explícito.\n",
    "    .load(source_data_path)\n",
    "    .withColumn(\"source_file\", col(\"_metadata.file_path\"))\n",
    "    .withColumn(\"ingested_at\", current_timestamp())\n",
    "    .withColumn(\"bronze_batch_id\", col(\"_metadata.file_path\"))  # Opcional: para trazabilidad\n",
    ")\n",
    "\n",
    "# --- 5. Escribir a Tabla Bronze (con reset de checkpoint) ---\n",
    "\n",
    "print(\"\uD83E\uDDF9 Reiniciando estado de checkpoint...\")\n",
    "dbutils.fs.rm(checkpoint_path, True)  # ← ¡BORRA EL CHECKPOINT!\n",
    "print(\"✅ Checkpoint eliminado.\")\n",
    "\n",
    "print(\"\uD83D\uDCC2 Creando nuevo directorio de checkpoint...\")\n",
    "dbutils.fs.mkdirs(checkpoint_path)\n",
    "print(\"✅ Checkpoint reinicializado.\")\n",
    "\n",
    "print(\"\uD83D\uDE80 Iniciando ingesta...\")\n",
    "\n",
    "query = (\n",
    "    bronze_df.writeStream\n",
    "    .trigger(availableNow=True)  # Modo batch para datos ya generados\n",
    "    .option(\"checkpointLocation\", checkpoint_path)\n",
    "    .option(\"mergeSchema\", \"true\")\n",
    "    .toTable(bronze_table_name)\n",
    ")\n",
    "\n",
    "query.awaitTermination()\n",
    "\n",
    "print(\"✅ ¡Ingesta completada exitosamente!\")\n",
    "\n"
   ]
  },
  {
   "cell_type": "code",
   "execution_count": 0,
   "metadata": {
    "application/vnd.databricks.v1+cell": {
     "cellMetadata": {
      "byteLimit": 2048000,
      "rowLimit": 10000
     },
     "inputWidgets": {},
     "nuid": "c192a624-0e9f-426e-82c0-162bcd485f0d",
     "showTitle": false,
     "tableResultSettingsMap": {},
     "title": ""
    }
   },
   "outputs": [
    {
     "output_type": "stream",
     "name": "stdout",
     "output_type": "stream",
     "text": [
      "\uD83D\uDCCA Total registros: 1,000,000\nroot\n |-- tx_id: long (nullable = true)\n |-- created_at: timestamp (nullable = true)\n |-- merchant_id: integer (nullable = true)\n |-- payer_id: integer (nullable = true)\n |-- amount: double (nullable = true)\n |-- currency: string (nullable = true)\n |-- qr_type: string (nullable = true)\n |-- qr_hash: string (nullable = true)\n |-- mcc: integer (nullable = true)\n |-- device_id: string (nullable = true)\n |-- payer_lat: double (nullable = true)\n |-- payer_lon: double (nullable = true)\n |-- merchant_lat: double (nullable = true)\n |-- merchant_lon: double (nullable = true)\n |-- channel: string (nullable = true)\n |-- has_error: integer (nullable = true)\n |-- error_code: string (nullable = true)\n |-- is_fraud: integer (nullable = true)\n |-- source_file: string (nullable = true)\n |-- ingested_at: timestamp (nullable = true)\n |-- __index_level_0__: long (nullable = true)\n |-- date: string (nullable = true)\n |-- bronze_batch_id: string (nullable = true)\n\n"
     ]
    },
    {
     "output_type": "display_data",
     "data": {
      "text/html": [
       "<style scoped>\n",
       "  .table-result-container {\n",
       "    max-height: 300px;\n",
       "    overflow: auto;\n",
       "  }\n",
       "  table, th, td {\n",
       "    border: 1px solid black;\n",
       "    border-collapse: collapse;\n",
       "  }\n",
       "  th, td {\n",
       "    padding: 5px;\n",
       "  }\n",
       "  th {\n",
       "    text-align: left;\n",
       "  }\n",
       "</style><div class='table-result-container'><table class='table-result'><thead style='background-color: white'><tr><th>tx_id</th><th>created_at</th><th>merchant_id</th><th>payer_id</th><th>amount</th><th>currency</th><th>qr_type</th><th>qr_hash</th><th>mcc</th><th>device_id</th><th>payer_lat</th><th>payer_lon</th><th>merchant_lat</th><th>merchant_lon</th><th>channel</th><th>has_error</th><th>error_code</th><th>is_fraud</th><th>source_file</th><th>ingested_at</th><th>__index_level_0__</th><th>date</th><th>bronze_batch_id</th></tr></thead><tbody><tr><td>18</td><td>2025-08-18T17:06:50.000Z</td><td>6765</td><td>34953</td><td>1269.69</td><td>ARS</td><td>static</td><td>276a3cf46ff17534cb651ce13c514b706cbd7a76d613ecf61b850e2f320c41bb</td><td>2174</td><td>3d4c98676c66aaa7ecd7b5d7d7d98c9ca3f00c26b5546c99666d39e2f601d2b3</td><td>-35.306386828067026</td><td>-60.35826053947818</td><td>-35.34880944713991</td><td>-60.32703364495234</td><td>app</td><td>0</td><td>null</td><td>0</td><td>/Volumes/fraude_qr/bronze/raw_data/synthetic_data/synthetic_qr_transactions/date=2025-08-18/8ce76775a4a44ff8bd34bd263bede771-0.parquet</td><td>2025-09-19T22:14:49.492Z</td><td>17</td><td>2025-08-18</td><td>/Volumes/fraude_qr/bronze/raw_data/synthetic_data/synthetic_qr_transactions/date=2025-08-18/8ce76775a4a44ff8bd34bd263bede771-0.parquet</td></tr><tr><td>25</td><td>2025-08-18T18:38:48.000Z</td><td>4791</td><td>8053</td><td>5219.13</td><td>ARS</td><td>static</td><td>fe17304019abfdb0cd1d68dbd3eb0b5c178d7652f90b89c632a4a8191a7a120b</td><td>3017</td><td>0d307e2a68861a8db063dccc73a7fdeb79b889671fcee133bda1c0f28e2fb1ee</td><td>-34.29794245447968</td><td>-62.72253356525232</td><td>-34.258668052478725</td><td>-62.708512317936446</td><td>app</td><td>1</td><td>501</td><td>0</td><td>/Volumes/fraude_qr/bronze/raw_data/synthetic_data/synthetic_qr_transactions/date=2025-08-18/8ce76775a4a44ff8bd34bd263bede771-0.parquet</td><td>2025-09-19T22:14:49.492Z</td><td>24</td><td>2025-08-18</td><td>/Volumes/fraude_qr/bronze/raw_data/synthetic_data/synthetic_qr_transactions/date=2025-08-18/8ce76775a4a44ff8bd34bd263bede771-0.parquet</td></tr><tr><td>70</td><td>2025-08-18T20:28:21.000Z</td><td>2256</td><td>25599</td><td>301.05</td><td>ARS</td><td>static</td><td>0226aeb83188a0be84a6ed7fa45014d07fec5581bc056fa913d6b108e9002377</td><td>8952</td><td>6c1dda884f7e27c25fdf9450e4d4295ace43876aaf97e0ad4c155ecc8eca94dc</td><td>-35.09492301635486</td><td>-59.115129983174306</td><td>-34.97269200170279</td><td>-59.17905555642538</td><td>app</td><td>0</td><td>null</td><td>0</td><td>/Volumes/fraude_qr/bronze/raw_data/synthetic_data/synthetic_qr_transactions/date=2025-08-18/8ce76775a4a44ff8bd34bd263bede771-0.parquet</td><td>2025-09-19T22:14:49.492Z</td><td>69</td><td>2025-08-18</td><td>/Volumes/fraude_qr/bronze/raw_data/synthetic_data/synthetic_qr_transactions/date=2025-08-18/8ce76775a4a44ff8bd34bd263bede771-0.parquet</td></tr></tbody></table></div>"
      ]
     },
     "metadata": {
      "application/vnd.databricks.v1+output": {
       "addedWidgets": {},
       "aggData": [],
       "aggError": "",
       "aggOverflow": false,
       "aggSchema": [],
       "aggSeriesLimitReached": false,
       "aggType": "",
       "arguments": {},
       "columnCustomDisplayInfos": {},
       "data": [
        [
         18,
         "2025-08-18T17:06:50.000Z",
         6765,
         34953,
         1269.69,
         "ARS",
         "static",
         "276a3cf46ff17534cb651ce13c514b706cbd7a76d613ecf61b850e2f320c41bb",
         2174,
         "3d4c98676c66aaa7ecd7b5d7d7d98c9ca3f00c26b5546c99666d39e2f601d2b3",
         -35.306386828067026,
         -60.35826053947818,
         -35.34880944713991,
         -60.32703364495234,
         "app",
         0,
         null,
         0,
         "/Volumes/fraude_qr/bronze/raw_data/synthetic_data/synthetic_qr_transactions/date=2025-08-18/8ce76775a4a44ff8bd34bd263bede771-0.parquet",
         "2025-09-19T22:14:49.492Z",
         17,
         "2025-08-18",
         "/Volumes/fraude_qr/bronze/raw_data/synthetic_data/synthetic_qr_transactions/date=2025-08-18/8ce76775a4a44ff8bd34bd263bede771-0.parquet"
        ],
        [
         25,
         "2025-08-18T18:38:48.000Z",
         4791,
         8053,
         5219.13,
         "ARS",
         "static",
         "fe17304019abfdb0cd1d68dbd3eb0b5c178d7652f90b89c632a4a8191a7a120b",
         3017,
         "0d307e2a68861a8db063dccc73a7fdeb79b889671fcee133bda1c0f28e2fb1ee",
         -34.29794245447968,
         -62.72253356525232,
         -34.258668052478725,
         -62.708512317936446,
         "app",
         1,
         "501",
         0,
         "/Volumes/fraude_qr/bronze/raw_data/synthetic_data/synthetic_qr_transactions/date=2025-08-18/8ce76775a4a44ff8bd34bd263bede771-0.parquet",
         "2025-09-19T22:14:49.492Z",
         24,
         "2025-08-18",
         "/Volumes/fraude_qr/bronze/raw_data/synthetic_data/synthetic_qr_transactions/date=2025-08-18/8ce76775a4a44ff8bd34bd263bede771-0.parquet"
        ],
        [
         70,
         "2025-08-18T20:28:21.000Z",
         2256,
         25599,
         301.05,
         "ARS",
         "static",
         "0226aeb83188a0be84a6ed7fa45014d07fec5581bc056fa913d6b108e9002377",
         8952,
         "6c1dda884f7e27c25fdf9450e4d4295ace43876aaf97e0ad4c155ecc8eca94dc",
         -35.09492301635486,
         -59.115129983174306,
         -34.97269200170279,
         -59.17905555642538,
         "app",
         0,
         null,
         0,
         "/Volumes/fraude_qr/bronze/raw_data/synthetic_data/synthetic_qr_transactions/date=2025-08-18/8ce76775a4a44ff8bd34bd263bede771-0.parquet",
         "2025-09-19T22:14:49.492Z",
         69,
         "2025-08-18",
         "/Volumes/fraude_qr/bronze/raw_data/synthetic_data/synthetic_qr_transactions/date=2025-08-18/8ce76775a4a44ff8bd34bd263bede771-0.parquet"
        ]
       ],
       "datasetInfos": [],
       "dbfsResultPath": null,
       "isJsonSchema": true,
       "metadata": {},
       "overflow": false,
       "plotOptions": {
        "customPlotOptions": {},
        "displayType": "table",
        "pivotAggregation": null,
        "pivotColumns": null,
        "xColumns": null,
        "yColumns": null
       },
       "removedWidgets": [],
       "schema": [
        {
         "metadata": "{}",
         "name": "tx_id",
         "type": "\"long\""
        },
        {
         "metadata": "{}",
         "name": "created_at",
         "type": "\"timestamp\""
        },
        {
         "metadata": "{}",
         "name": "merchant_id",
         "type": "\"integer\""
        },
        {
         "metadata": "{}",
         "name": "payer_id",
         "type": "\"integer\""
        },
        {
         "metadata": "{}",
         "name": "amount",
         "type": "\"double\""
        },
        {
         "metadata": "{}",
         "name": "currency",
         "type": "\"string\""
        },
        {
         "metadata": "{}",
         "name": "qr_type",
         "type": "\"string\""
        },
        {
         "metadata": "{}",
         "name": "qr_hash",
         "type": "\"string\""
        },
        {
         "metadata": "{}",
         "name": "mcc",
         "type": "\"integer\""
        },
        {
         "metadata": "{}",
         "name": "device_id",
         "type": "\"string\""
        },
        {
         "metadata": "{}",
         "name": "payer_lat",
         "type": "\"double\""
        },
        {
         "metadata": "{}",
         "name": "payer_lon",
         "type": "\"double\""
        },
        {
         "metadata": "{}",
         "name": "merchant_lat",
         "type": "\"double\""
        },
        {
         "metadata": "{}",
         "name": "merchant_lon",
         "type": "\"double\""
        },
        {
         "metadata": "{}",
         "name": "channel",
         "type": "\"string\""
        },
        {
         "metadata": "{}",
         "name": "has_error",
         "type": "\"integer\""
        },
        {
         "metadata": "{}",
         "name": "error_code",
         "type": "\"string\""
        },
        {
         "metadata": "{}",
         "name": "is_fraud",
         "type": "\"integer\""
        },
        {
         "metadata": "{}",
         "name": "source_file",
         "type": "\"string\""
        },
        {
         "metadata": "{}",
         "name": "ingested_at",
         "type": "\"timestamp\""
        },
        {
         "metadata": "{}",
         "name": "__index_level_0__",
         "type": "\"long\""
        },
        {
         "metadata": "{}",
         "name": "date",
         "type": "\"string\""
        },
        {
         "metadata": "{}",
         "name": "bronze_batch_id",
         "type": "\"string\""
        }
       ],
       "type": "table"
      }
     },
     "output_type": "display_data"
    },
    {
     "output_type": "stream",
     "name": "stdout",
     "output_type": "stream",
     "text": [
      "+----------+-------------+\n|      date|sum(is_fraud)|\n+----------+-------------+\n|2025-08-01|           79|\n|2025-08-02|           89|\n|2025-08-03|           80|\n|2025-08-04|           91|\n|2025-08-05|           67|\n+----------+-------------+\nonly showing top 5 rows\n"
     ]
    }
   ],
   "source": [
    "# Verificar conteo y esquema\n",
    "df = spark.table(\"fraude_qr.bronze.qr_transactions_raw\")\n",
    "print(f\"\uD83D\uDCCA Total registros: {df.count():,}\")\n",
    "df.printSchema()\n",
    "\n",
    "# Verificar primeros registros\n",
    "df.limit(3).display()\n",
    "\n",
    "# Verificar distribución de fraude\n",
    "df.groupBy(\"date\").sum(\"is_fraud\").orderBy(\"date\").show(5)"
   ]
  },
  {
   "cell_type": "code",
   "execution_count": 0,
   "metadata": {
    "application/vnd.databricks.v1+cell": {
     "cellMetadata": {
      "byteLimit": 2048000,
      "rowLimit": 10000
     },
     "inputWidgets": {},
     "nuid": "9b7cb485-ef51-4271-8e0e-b145287913a0",
     "showTitle": false,
     "tableResultSettingsMap": {},
     "title": ""
    }
   },
   "outputs": [
    {
     "output_type": "stream",
     "name": "stdout",
     "output_type": "stream",
     "text": [
      "\uD83D\uDCCA Total registros en Bronze: 1,000,000\n"
     ]
    }
   ],
   "source": [
    "print(f\"\uD83D\uDCCA Total registros en Bronze: {spark.table('fraude_qr.bronze.qr_transactions_raw').count():,}\")"
   ]
  }
 ],
 "metadata": {
  "application/vnd.databricks.v1+notebook": {
   "computePreferences": null,
   "dashboards": [],
   "environmentMetadata": {
    "base_environment": "",
    "environment_version": "3"
   },
   "inputWidgetPreferences": null,
   "language": "python",
   "notebookMetadata": {
    "pythonIndentUnit": 4
   },
   "notebookName": "02_Bronze_Ingestion.py",
   "widgets": {}
  },
  "language_info": {
   "name": "python"
  }
 },
 "nbformat": 4,
 "nbformat_minor": 0
}