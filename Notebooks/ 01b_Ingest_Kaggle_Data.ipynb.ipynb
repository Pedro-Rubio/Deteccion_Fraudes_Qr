{
 "cells": [
  {
   "cell_type": "code",
   "execution_count": 0,
   "metadata": {
    "application/vnd.databricks.v1+cell": {
     "cellMetadata": {
      "byteLimit": 2048000,
      "rowLimit": 10000
     },
     "inputWidgets": {},
     "nuid": "1dab38ad-3988-48cb-bb76-f4c8e56bdaaf",
     "showTitle": false,
     "tableResultSettingsMap": {},
     "title": ""
    }
   },
   "outputs": [
    {
     "output_type": "stream",
     "name": "stdout",
     "output_type": "stream",
     "text": [
      "✅ Carpeta creada o ya existente: /Volumes/fraude_qr/bronze/raw_data/kaggle\n"
     ]
    }
   ],
   "source": [
    "# Ruta del Volume donde queremos guardar el archivo\n",
    "volume_path = \"/Volumes/fraude_qr/bronze/raw_data/kaggle\"\n",
    "\n",
    "# Crear la carpeta si no existe\n",
    "dbutils.fs.mkdirs(volume_path)\n",
    "print(f\"✅ Carpeta creada o ya existente: {volume_path}\")"
   ]
  },
  {
   "cell_type": "code",
   "execution_count": 0,
   "metadata": {
    "application/vnd.databricks.v1+cell": {
     "cellMetadata": {
      "byteLimit": 2048000,
      "rowLimit": 10000
     },
     "inputWidgets": {},
     "nuid": "90b49c41-e48c-4ad4-9de1-b467550e5bd3",
     "showTitle": false,
     "tableResultSettingsMap": {},
     "title": ""
    }
   },
   "outputs": [
    {
     "output_type": "stream",
     "name": "stdout",
     "output_type": "stream",
     "text": [
      "✅ Archivo encontrado en el Volume.\n"
     ]
    }
   ],
   "source": [
    "# Verificar que el archivo existe en el Volume\n",
    "kaggle_path = \"/Volumes/fraude_qr/bronze/raw_data/kaggle/PS_20174392719_1491204439457_log.csv\"\n",
    "\n",
    "try:\n",
    "    dbutils.fs.ls(kaggle_path)\n",
    "    print(\"✅ Archivo encontrado en el Volume.\")\n",
    "except Exception as e:\n",
    "    print(f\"❌ ERROR: {str(e)}\")"
   ]
  },
  {
   "cell_type": "code",
   "execution_count": 0,
   "metadata": {
    "application/vnd.databricks.v1+cell": {
     "cellMetadata": {
      "byteLimit": 2048000,
      "rowLimit": 10000
     },
     "inputWidgets": {},
     "nuid": "dc4eaab8-1da9-40a7-8dd9-7e5fff35634c",
     "showTitle": false,
     "tableResultSettingsMap": {},
     "title": ""
    }
   },
   "outputs": [
    {
     "output_type": "stream",
     "name": "stdout",
     "output_type": "stream",
     "text": [
      "\uD83D\uDCC2 Ruta del dataset de Kaggle: /Volumes/fraude_qr/bronze/raw_data/kaggle/PS_20174392719_1491204439457_log.csv\n\uD83D\uDCBE Tabla Bronze de destino: fraude_qr.bronze.qr_transactions_kaggle_raw\n\n\uD83D\uDCC2 Leyendo dataset de Kaggle...\n\uD83D\uDCCB Esquema original de PaySim:\nroot\n |-- step: integer (nullable = true)\n |-- type: string (nullable = true)\n |-- amount: double (nullable = true)\n |-- nameOrig: string (nullable = true)\n |-- oldbalanceOrg: double (nullable = true)\n |-- newbalanceOrig: double (nullable = true)\n |-- nameDest: string (nullable = true)\n |-- oldbalanceDest: double (nullable = true)\n |-- newbalanceDest: double (nullable = true)\n |-- isFraud: integer (nullable = true)\n |-- isFlaggedFraud: integer (nullable = true)\n\n\n\uD83E\uDDE9 Alineando esquema al modelo de datos QR...\n✅ Esquema alineado.\n\uD83D\uDCCB Nuevo esquema:\nroot\n |-- tx_id: long (nullable = true)\n |-- created_at: timestamp (nullable = true)\n |-- merchant_id: long (nullable = true)\n |-- payer_id: long (nullable = true)\n |-- amount: double (nullable = true)\n |-- currency: string (nullable = false)\n |-- qr_type: string (nullable = false)\n |-- qr_hash: string (nullable = false)\n |-- mcc: long (nullable = true)\n |-- device_id: string (nullable = false)\n |-- payer_lat: double (nullable = true)\n |-- payer_lon: double (nullable = true)\n |-- merchant_lat: double (nullable = true)\n |-- merchant_lon: double (nullable = true)\n |-- channel: string (nullable = false)\n |-- has_error: integer (nullable = false)\n |-- error_code: string (nullable = true)\n |-- is_fraud: integer (nullable = true)\n\n\n\uD83D\uDCBE Escribiendo en tabla Bronze: fraude_qr.bronze.qr_transactions_kaggle_raw\n\uD83C\uDF89 ¡Dataset de Kaggle ingerido exitosamente en la capa Bronze!\n"
     ]
    }
   ],
   "source": [
    "# MAGIC %md\n",
    "# MAGIC # \uD83D\uDCE5 01b_Ingest_Kaggle_Data\n",
    "# MAGIC Ingesta el dataset público de Kaggle (PaySim) a la capa Bronze.\n",
    "\n",
    "# COMMAND ----------\n",
    "\n",
    "# Importamos la nueva función 'substring'\n",
    "from pyspark.sql.functions import col, lit, when, from_unixtime, sha2, conv, substring\n",
    "from pyspark.sql.types import LongType, StringType, DoubleType, TimestampType\n",
    "\n",
    "# --- 1. Configuración de Rutas ---\n",
    "kaggle_csv_path = \"/Volumes/fraude_qr/bronze/raw_data/kaggle/PS_20174392719_1491204439457_log.csv\"\n",
    "bronze_table_name = \"fraude_qr.bronze.qr_transactions_kaggle_raw\"\n",
    "\n",
    "print(f\"\uD83D\uDCC2 Ruta del dataset de Kaggle: {kaggle_csv_path}\")\n",
    "print(f\"\uD83D\uDCBE Tabla Bronze de destino: {bronze_table_name}\")\n",
    "\n",
    "# --- 2. Leer el Dataset de Kaggle ---\n",
    "print(\"\\n\uD83D\uDCC2 Leyendo dataset de Kaggle...\")\n",
    "df_kaggle = (\n",
    "    spark.read\n",
    "    .option(\"header\", \"true\")\n",
    "    .option(\"inferSchema\", \"true\")\n",
    "    .csv(kaggle_csv_path)\n",
    ")\n",
    "print(\"\uD83D\uDCCB Esquema original de PaySim:\")\n",
    "df_kaggle.printSchema()\n",
    "\n",
    "# --- 3. Alinear Esquema al Modelo de Datos QR ---\n",
    "print(\"\\n\uD83E\uDDE9 Alineando esquema al modelo de datos QR...\")\n",
    "\n",
    "df_aligned = (\n",
    "    df_kaggle\n",
    "    # --- IDs ---\n",
    "    .withColumn(\n",
    "        \"tx_id\",\n",
    "        (\n",
    "            col(\"step\") * 1000000 +\n",
    "            # CORRECCIÓN: Usamos substring para truncar el hash\n",
    "            substring(conv(sha2(col(\"nameOrig\"), 256), 16, 10), -15, 15).cast(LongType()) % 1000000\n",
    "        ).cast(LongType())\n",
    "    )\n",
    "    .withColumn(\n",
    "        \"merchant_id\",\n",
    "        # CORRECCIÓN: Usamos substring\n",
    "        (substring(conv(sha2(col(\"nameDest\"), 256), 16, 10), -15, 15).cast(LongType()) % 10000 + 1).cast(LongType())\n",
    "    )\n",
    "    .withColumn(\n",
    "        \"payer_id\",\n",
    "        # CORRECCIÓN: Usamos substring\n",
    "        (substring(conv(sha2(col(\"nameOrig\"), 256), 16, 10), -15, 15).cast(LongType()) % 50000 + 1).cast(LongType())\n",
    "    )\n",
    "    \n",
    "    # --- Dispositivo y QR ---\n",
    "    .withColumn(\"device_id\", lit(\"kaggle_device_placeholder\"))\n",
    "    .withColumn(\"qr_hash\", lit(\"kaggle_qr_placeholder\"))\n",
    "    \n",
    "    # --- Timestamp ---\n",
    "    .withColumn(\n",
    "        \"created_at\",\n",
    "        from_unixtime(col(\"step\") * 3600).cast(TimestampType())\n",
    "    )\n",
    "    \n",
    "    # --- Monto y Moneda ---\n",
    "    .withColumn(\"amount\", col(\"amount\").cast(DoubleType()))\n",
    "    .withColumn(\"currency\", lit(\"USD\"))\n",
    "    \n",
    "    # --- Tipo de QR y Canal ---\n",
    "    .withColumn(\"qr_type\", lit(\"dynamic\"))\n",
    "    .withColumn(\"channel\", lit(\"app\"))\n",
    "    \n",
    "    # --- Ubicación (Geográfica) ---\n",
    "    .withColumn(\"merchant_lat\", (lit(-34.5) + (substring(conv(sha2(col(\"nameDest\"), 256), 16, 10), -15, 15).cast(LongType()) % 1000 / 1000.0)).cast(DoubleType()))\n",
    "    .withColumn(\"merchant_lon\", (lit(-58.4) + (substring(conv(sha2(col(\"nameDest\"), 256), 16, 10), -15, 15).cast(LongType()) % 1000 / 1000.0)).cast(DoubleType()))\n",
    "    .withColumn(\"payer_lat\", (lit(-34.5) + (substring(conv(sha2(col(\"nameOrig\"), 256), 16, 10), -15, 15).cast(LongType()) % 1000 / 1000.0) * -1).cast(DoubleType()))\n",
    "    .withColumn(\"payer_lon\", (lit(-58.4) + (substring(conv(sha2(col(\"nameOrig\"), 256), 16, 10), -15, 15).cast(LongType()) % 1000 / 1000.0) * -1).cast(DoubleType()))\n",
    "    \n",
    "    # --- MCC (Merchant Category Code) ---\n",
    "    .withColumn(\n",
    "        \"mcc\",\n",
    "        # CORRECCIÓN: Usamos substring\n",
    "        (substring(conv(sha2(col(\"type\"), 256), 16, 10), -15, 15).cast(LongType()) % 8999 + 1000).cast(LongType())\n",
    "    )\n",
    "    \n",
    "    # --- Error y Fraude ---\n",
    "    .withColumn(\"has_error\", lit(0).cast(\"int\"))\n",
    "    .withColumn(\"error_code\", lit(None).cast(StringType()))\n",
    "    .withColumn(\"is_fraud\", col(\"isFraud\").cast(\"int\"))\n",
    ")\n",
    "\n",
    "# --- Seleccionar y ordenar las columnas finales ---\n",
    "df_final = df_aligned.select(\n",
    "    \"tx_id\", \"created_at\", \"merchant_id\", \"payer_id\", \"amount\", \"currency\",\n",
    "    \"qr_type\", \"qr_hash\", \"mcc\", \"device_id\", \"payer_lat\", \"payer_lon\",\n",
    "    \"merchant_lat\", \"merchant_lon\", \"channel\", \"has_error\", \"error_code\", \"is_fraud\"\n",
    ")\n",
    "\n",
    "print(\"✅ Esquema alineado.\")\n",
    "print(\"\uD83D\uDCCB Nuevo esquema:\")\n",
    "df_final.printSchema()\n",
    "\n",
    "# --- 4. Escribir en la Capa Bronze ---\n",
    "print(f\"\\n\uD83D\uDCBE Escribiendo en tabla Bronze: {bronze_table_name}\")\n",
    "\n",
    "(\n",
    "    df_final\n",
    "    .write\n",
    "    .mode(\"overwrite\")\n",
    "    .option(\"overwriteSchema\", \"true\")\n",
    "    .saveAsTable(bronze_table_name)\n",
    ")\n",
    "\n",
    "print(\"\uD83C\uDF89 ¡Dataset de Kaggle ingerido exitosamente en la capa Bronze!\")"
   ]
  }
 ],
 "metadata": {
  "application/vnd.databricks.v1+notebook": {
   "computePreferences": null,
   "dashboards": [],
   "environmentMetadata": {
    "base_environment": "",
    "environment_version": "3"
   },
   "inputWidgetPreferences": null,
   "language": "python",
   "notebookMetadata": {
    "pythonIndentUnit": 4
   },
   "notebookName": "01b_Ingest_Kaggle_Data.ipynb",
   "widgets": {}
  },
  "language_info": {
   "name": "python"
  }
 },
 "nbformat": 4,
 "nbformat_minor": 0
}
