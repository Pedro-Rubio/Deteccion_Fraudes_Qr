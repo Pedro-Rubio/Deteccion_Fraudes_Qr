{
 "cells": [
  {
   "cell_type": "code",
   "execution_count": 0,
   "metadata": {
    "application/vnd.databricks.v1+cell": {
     "cellMetadata": {
      "byteLimit": 2048000,
      "rowLimit": 10000
     },
     "inputWidgets": {},
     "nuid": "a6cfb924-a86a-44ee-9658-3d8a8d841b26",
     "showTitle": false,
     "tableResultSettingsMap": {},
     "title": ""
    }
   },
   "outputs": [
    {
     "output_type": "stream",
     "name": "stdout",
     "output_type": "stream",
     "text": [
      "Collecting faker\n  Downloading faker-37.8.0-py3-none-any.whl.metadata (15 kB)\nRequirement already satisfied: tzdata in /databricks/python3/lib/python3.12/site-packages (from faker) (2024.1)\nDownloading faker-37.8.0-py3-none-any.whl (2.0 MB)\n\u001B[?25l   \u001B[90m━━━━━━━━━━━━━━━━━━━━━━━━━━━━━━━━━━━━━━━━\u001B[0m \u001B[32m0.0/2.0 MB\u001B[0m \u001B[31m?\u001B[0m eta \u001B[36m-:--:--\u001B[0m\r\u001B[2K   \u001B[90m━━━━━━━━━━━━━━━━━━━━━━━━━━━━━━━━━━━━━━━━\u001B[0m \u001B[32m2.0/2.0 MB\u001B[0m \u001B[31m11.1 MB/s\u001B[0m eta \u001B[36m0:00:00\u001B[0m\n\u001B[?25hInstalling collected packages: faker\nSuccessfully installed faker-37.8.0\n\u001B[43mNote: you may need to restart the kernel using %restart_python or dbutils.library.restartPython() to use updated packages.\u001B[0m\n"
     ]
    }
   ],
   "source": [
    "%pip install faker"
   ]
  },
  {
   "cell_type": "code",
   "execution_count": 0,
   "metadata": {
    "application/vnd.databricks.v1+cell": {
     "cellMetadata": {
      "byteLimit": 2048000,
      "rowLimit": 10000
     },
     "inputWidgets": {},
     "nuid": "833e0241-4108-46e5-8d53-2136bf9345e2",
     "showTitle": false,
     "tableResultSettingsMap": {},
     "title": ""
    }
   },
   "outputs": [
    {
     "output_type": "stream",
     "name": "stdout",
     "output_type": "stream",
     "text": [
      "\uD83D\uDCCC Parámetros configurados:\n   - Transacciones: 1,000,000\n   - Tasa de fraude: 0.0020 (0.20%)\n   - Fecha inicio: 2025-08-01\n   - Salida: /Volumes/fraude_qr/bronze/raw_data/synthetic_data\n\uD83D\uDCC1 Creando directorio: /Volumes/fraude_qr/bronze/raw_data/synthetic_data\n\n\uD83E\uDDE9 Generando tablas de dimensiones...\n\uD83D\uDCCA Generando dimensiones...\n✅ Dimensiones generadas: 10000 merchants, 50000 payers, 75000 devices.\n\uD83D\uDCBE Guardando dimensiones...\n\n\uD83E\uDDE9 Generando transacciones...\n\uD83D\uDCB3 Generando 1,000,000 transacciones...\n⚠️ Inyectando patrones de fraude...\n✅ Transacciones generadas: 1,000,000 registros, 2,400 fraudes inyectados.\n\uD83D\uDCC2 Ruta de salida: /Volumes/fraude_qr/bronze/raw_data/synthetic_data/synthetic_qr_transactions\n\uD83E\uDDF9 Eliminando datos antiguos (si existen)...\n✅ Carpeta eliminada.\n\uD83D\uDCBE Guardando datos con configuración Spark-friendly...\n\n\uD83C\uDF89 ¡GENERACIÓN COMPLETADA!\n\uD83D\uDCCA Transacciones: 1,000,000\n\uD83D\uDCC8 Fraudes: 2,400 (0.240%)\n\uD83D\uDCC1 Ubicación: /Volumes/fraude_qr/bronze/raw_data/synthetic_data/synthetic_qr_transactions\n"
     ]
    },
    {
     "output_type": "display_data",
     "data": {
      "text/plain": [
       "\u001B[0;31m---------------------------------------------------------------------------\u001B[0m\n",
       "\u001B[0;31mNameError\u001B[0m                                 Traceback (most recent call last)\n",
       "File \u001B[0;32m<command-5120634732865348>, line 244\u001B[0m\n",
       "\u001B[1;32m    234\u001B[0m \u001B[38;5;28mprint\u001B[39m(\u001B[38;5;124mf\u001B[39m\u001B[38;5;124m\"\u001B[39m\u001B[38;5;124m\uD83D\uDCC1 Ubicación: \u001B[39m\u001B[38;5;132;01m{\u001B[39;00moutput_path\u001B[38;5;132;01m}\u001B[39;00m\u001B[38;5;124m\"\u001B[39m)\n",
       "\u001B[1;32m    236\u001B[0m \u001B[38;5;66;03m# COMMAND ----------\u001B[39;00m\n",
       "\u001B[1;32m    237\u001B[0m \n",
       "\u001B[1;32m    238\u001B[0m \u001B[38;5;66;03m# MAGIC %md\u001B[39;00m\n",
       "\u001B[0;32m   (...)\u001B[0m\n",
       "\u001B[1;32m    242\u001B[0m \n",
       "\u001B[1;32m    243\u001B[0m \u001B[38;5;66;03m# Reconectar Spark si la sesión expiró\u001B[39;00m\n",
       "\u001B[0;32m--> 244\u001B[0m spark \u001B[38;5;241m=\u001B[39m SparkSession\u001B[38;5;241m.\u001B[39mbuilder\u001B[38;5;241m.\u001B[39mgetOrCreate()\n",
       "\u001B[1;32m    246\u001B[0m \u001B[38;5;28mprint\u001B[39m(\u001B[38;5;124m\"\u001B[39m\u001B[38;5;124m\uD83D\uDD0D Verificando estructura de archivos...\u001B[39m\u001B[38;5;124m\"\u001B[39m)\n",
       "\u001B[1;32m    247\u001B[0m dbutils\u001B[38;5;241m.\u001B[39mfs\u001B[38;5;241m.\u001B[39mls(output_path)\n",
       "\n",
       "\u001B[0;31mNameError\u001B[0m: name 'SparkSession' is not defined"
      ]
     },
     "metadata": {
      "application/vnd.databricks.v1+output": {
       "addedWidgets": {},
       "arguments": {},
       "datasetInfos": [],
       "jupyterProps": {
        "ename": "NameError",
        "evalue": "name 'SparkSession' is not defined"
       },
       "metadata": {
        "errorSummary": "<span class='ansi-red-fg'>NameError</span>: name 'SparkSession' is not defined"
       },
       "removedWidgets": [],
       "sqlProps": null,
       "stackFrames": [
        "\u001B[0;31m---------------------------------------------------------------------------\u001B[0m",
        "\u001B[0;31mNameError\u001B[0m                                 Traceback (most recent call last)",
        "File \u001B[0;32m<command-5120634732865348>, line 244\u001B[0m\n\u001B[1;32m    234\u001B[0m \u001B[38;5;28mprint\u001B[39m(\u001B[38;5;124mf\u001B[39m\u001B[38;5;124m\"\u001B[39m\u001B[38;5;124m\uD83D\uDCC1 Ubicación: \u001B[39m\u001B[38;5;132;01m{\u001B[39;00moutput_path\u001B[38;5;132;01m}\u001B[39;00m\u001B[38;5;124m\"\u001B[39m)\n\u001B[1;32m    236\u001B[0m \u001B[38;5;66;03m# COMMAND ----------\u001B[39;00m\n\u001B[1;32m    237\u001B[0m \n\u001B[1;32m    238\u001B[0m \u001B[38;5;66;03m# MAGIC %md\u001B[39;00m\n\u001B[0;32m   (...)\u001B[0m\n\u001B[1;32m    242\u001B[0m \n\u001B[1;32m    243\u001B[0m \u001B[38;5;66;03m# Reconectar Spark si la sesión expiró\u001B[39;00m\n\u001B[0;32m--> 244\u001B[0m spark \u001B[38;5;241m=\u001B[39m SparkSession\u001B[38;5;241m.\u001B[39mbuilder\u001B[38;5;241m.\u001B[39mgetOrCreate()\n\u001B[1;32m    246\u001B[0m \u001B[38;5;28mprint\u001B[39m(\u001B[38;5;124m\"\u001B[39m\u001B[38;5;124m\uD83D\uDD0D Verificando estructura de archivos...\u001B[39m\u001B[38;5;124m\"\u001B[39m)\n\u001B[1;32m    247\u001B[0m dbutils\u001B[38;5;241m.\u001B[39mfs\u001B[38;5;241m.\u001B[39mls(output_path)\n",
        "\u001B[0;31mNameError\u001B[0m: name 'SparkSession' is not defined"
       ],
       "type": "baseError"
      }
     },
     "output_type": "display_data"
    }
   ],
   "source": [
    "# MAGIC %md\n",
    "# MAGIC # \uD83C\uDFB2 01_Generate_Synthetic_Data\n",
    "# MAGIC Genera datasets sintéticos de transacciones QR, merchants, payers y devices.\n",
    "# MAGIC - Datos realistas con patrones de fraude inyectados.\n",
    "# MAGIC - Guarda directamente en Volume: `/Volumes/fraude_qr/bronze/raw_data/synthetic_data`\n",
    "# MAGIC - Tipos de datos 100% compatibles con Spark/Delta Lake.\n",
    "# MAGIC - Particionado por `date` listo para Auto Loader.\n",
    "\n",
    "# COMMAND ----------\n",
    "\n",
    "# MAGIC %md\n",
    "# MAGIC ## 1. Instalar Librerías Necesarias (SIN reiniciar)\n",
    "\n",
    "# COMMAND ----------\n",
    "\n",
    "# MAGIC %pip install --quiet faker\n",
    "\n",
    "# COMMAND ----------\n",
    "\n",
    "# MAGIC %md\n",
    "# MAGIC ## 2. Importar Librerías y Configurar Parámetros\n",
    "\n",
    "# COMMAND ----------\n",
    "\n",
    "import pandas as pd\n",
    "import numpy as np\n",
    "from faker import Faker\n",
    "import os\n",
    "from datetime import datetime, timedelta\n",
    "\n",
    "# ===========================================\n",
    "# \uD83D\uDD27 PARÁMETROS CONFIGURABLES\n",
    "# ===========================================\n",
    "num_transactions = 1_000_000    # Total de transacciones a generar\n",
    "fraud_rate = 0.002              # Tasa de fraude (0.2%)\n",
    "start_date = \"2025-08-01\"       # Fecha de inicio\n",
    "output_dir = \"/Volumes/fraude_qr/bronze/raw_data/synthetic_data\"  # ¡Ruta en tu Volume!\n",
    "\n",
    "# Inicializar Faker\n",
    "fake = Faker()\n",
    "\n",
    "print(f\"\uD83D\uDCCC Parámetros configurados:\")\n",
    "print(f\"   - Transacciones: {num_transactions:,}\")\n",
    "print(f\"   - Tasa de fraude: {fraud_rate:.4f} ({fraud_rate*100:.2f}%)\")\n",
    "print(f\"   - Fecha inicio: {start_date}\")\n",
    "print(f\"   - Salida: {output_dir}\")\n",
    "\n",
    "# COMMAND ----------\n",
    "\n",
    "# MAGIC %md\n",
    "# MAGIC ## 3. Función: Generar Dimensiones (Merchants, Payers, Devices)\n",
    "\n",
    "# COMMAND ----------\n",
    "\n",
    "def generate_dimensions(num_merchants=10000, num_payers=50000, num_devices=75000):\n",
    "    \"\"\"Genera tablas de dimensiones con tipos explícitos compatibles con Spark.\"\"\"\n",
    "    print(\"\uD83D\uDCCA Generando dimensiones...\")\n",
    "    \n",
    "    merchants = pd.DataFrame({\n",
    "        'merchant_id': np.arange(1, num_merchants + 1, dtype='int64'),\n",
    "        'merchant_name': [fake.company() for _ in range(num_merchants)],\n",
    "        'country': ['AR'] * num_merchants,\n",
    "        'state': [fake.state() for _ in range(num_merchants)],\n",
    "        'city': [fake.city() for _ in range(num_merchants)],\n",
    "        'merchant_lat': np.random.uniform(-38, -34, num_merchants).astype('float64'),\n",
    "        'merchant_lon': np.random.uniform(-63, -58, num_merchants).astype('float64'),\n",
    "        'mcc': np.random.randint(1000, 9999, num_merchants, dtype='int64'),\n",
    "        'risk_score': np.random.uniform(0.1, 1.0, num_merchants).astype('float64'),\n",
    "        'on_watchlist': np.random.choice([0, 1], num_merchants, p=[0.95, 0.05]).astype('int64')\n",
    "    })\n",
    "\n",
    "    payers = pd.DataFrame({\n",
    "        'payer_id': np.arange(1, num_payers + 1, dtype='int64'),\n",
    "        'segment': np.random.choice(['new', 'regular', 'vip'], num_payers, p=[0.4, 0.5, 0.1]),\n",
    "        'age_band': np.random.choice(['18-25', '26-35', '36-50', '50+'], num_payers, p=[0.3, 0.4, 0.2, 0.1]),\n",
    "        'tenure_days': np.random.randint(1, 1000, num_payers, dtype='int64')\n",
    "    })\n",
    "\n",
    "    device_ids = [fake.sha256() for _ in range(num_devices)]\n",
    "    devices = pd.DataFrame({\n",
    "        'device_id': device_ids,\n",
    "        'device_type': np.random.choice(['ios', 'android'], num_devices, p=[0.4, 0.6]),\n",
    "        'app_version': [f\"{np.random.randint(2,5)}.{np.random.randint(0,10)}.{np.random.randint(0,20)}\" for _ in range(num_devices)],\n",
    "        'rooted': np.random.choice([0, 1], num_devices, p=[0.9, 0.1]).astype('int64')\n",
    "    })\n",
    "    \n",
    "    print(f\"✅ Dimensiones generadas: {num_merchants} merchants, {num_payers} payers, {num_devices} devices.\")\n",
    "    return merchants, payers, devices\n",
    "\n",
    "# COMMAND ----------\n",
    "\n",
    "# MAGIC %md\n",
    "# MAGIC ## 4. Función: Generar Transacciones QR con Fraude\n",
    "\n",
    "# COMMAND ----------\n",
    "\n",
    "def generate_qr_transactions(num_transactions, fraud_rate, start_date_str, merchants, payers, devices):\n",
    "    \"\"\"Genera transacciones con patrones de fraude y tipos compatibles.\"\"\"\n",
    "    print(f\"\uD83D\uDCB3 Generando {num_transactions:,} transacciones...\")\n",
    "    \n",
    "    start_date = datetime.strptime(start_date_str, '%Y-%m-%d')\n",
    "    \n",
    "    df = pd.DataFrame({\n",
    "        'tx_id': np.arange(1, num_transactions + 1, dtype='int64'),\n",
    "        'merchant_id': np.random.choice(merchants['merchant_id'].values, num_transactions),\n",
    "        'payer_id': np.random.choice(payers['payer_id'].values, num_transactions),\n",
    "        'device_id': np.random.choice(devices['device_id'].values, num_transactions),\n",
    "        'created_at': pd.to_datetime([\n",
    "            start_date + timedelta(seconds=int(s)) \n",
    "            for s in np.random.randint(0, 30*24*3600, num_transactions)\n",
    "        ], utc=True),\n",
    "        'currency': ['ARS'] * num_transactions,\n",
    "        'qr_type': np.random.choice(['static', 'dynamic', 'cpm'], num_transactions, p=[0.6, 0.3, 0.1]),\n",
    "        'channel': np.random.choice(['app', 'web'], num_transactions, p=[0.9, 0.1]),\n",
    "        'has_error': np.random.choice([0, 1], num_transactions, p=[0.98, 0.02]).astype('int64'),\n",
    "    })\n",
    "\n",
    "    df['amount'] = np.random.lognormal(mean=8.5, sigma=1.5, size=num_transactions).round(2).astype('float64')\n",
    "    df.loc[df['amount'] > 50000, 'amount'] = np.random.uniform(50000, 150000, df[df['amount'] > 50000].shape[0])\n",
    "\n",
    "    df = df.merge(merchants[['merchant_id', 'merchant_lat', 'merchant_lon', 'mcc']], on='merchant_id', how='left')\n",
    "\n",
    "    df['payer_lat'] = (df['merchant_lat'] + np.random.normal(0, 0.05, num_transactions)).astype('float64')\n",
    "    df['payer_lon'] = (df['merchant_lon'] + np.random.normal(0, 0.05, num_transactions)).astype('float64')\n",
    "\n",
    "    df['is_fraud'] = np.zeros(num_transactions, dtype='int64')\n",
    "    num_fraud = int(num_transactions * fraud_rate)\n",
    "    fraud_indices = np.random.choice(df.index, num_fraud, replace=False)\n",
    "\n",
    "    print(\"⚠️ Inyectando patrones de fraude...\")\n",
    "\n",
    "    dist_fraud_indices = np.random.choice(fraud_indices, int(num_fraud * 0.2), replace=False)\n",
    "    df.loc[dist_fraud_indices, 'payer_lat'] = df.loc[dist_fraud_indices, 'merchant_lat'] + np.random.uniform(1, 5)\n",
    "    df.loc[dist_fraud_indices, 'payer_lon'] = df.loc[dist_fraud_indices, 'merchant_lon'] + np.random.uniform(1, 5)\n",
    "\n",
    "    velocity_fraud_indices = np.random.choice(fraud_indices, int(num_fraud * 0.2), replace=False)\n",
    "    for idx in velocity_fraud_indices[:len(velocity_fraud_indices)//2]:\n",
    "        if idx + 1 < len(df):\n",
    "            df.loc[idx + 1, ['payer_id', 'is_fraud']] = [df.loc[idx, 'payer_id'], 1]\n",
    "        if idx + 2 < len(df):\n",
    "            df.loc[idx + 2, ['payer_id', 'is_fraud']] = [df.loc[idx, 'payer_id'], 1]\n",
    "\n",
    "    risky_fraud_indices = np.random.choice(fraud_indices, int(num_fraud * 0.4), replace=False)\n",
    "    risky_devices = devices[devices['rooted'] == 1]['device_id'].values\n",
    "    risky_mcc = merchants[merchants['risk_score'] > 0.8]['mcc'].values\n",
    "    if len(risky_devices) > 0:\n",
    "        df.loc[risky_fraud_indices, 'device_id'] = np.random.choice(risky_devices, len(risky_fraud_indices))\n",
    "    if len(risky_mcc) > 0:\n",
    "        df.loc[risky_fraud_indices, 'mcc'] = np.random.choice(risky_mcc, len(risky_fraud_indices))\n",
    "\n",
    "    df.loc[fraud_indices, 'is_fraud'] = 1\n",
    "\n",
    "    df['qr_hash'] = [fake.sha256() for _ in range(num_transactions)]\n",
    "    df['error_code'] = np.nan\n",
    "    df.loc[df['has_error'] == 1, 'error_code'] = np.random.choice(['501', '503', '504', '401'], df[df['has_error'] == 1].shape[0])\n",
    "\n",
    "    # \uD83D\uDD25 FORZAR A MILISEGUNDOS\n",
    "    df['created_at'] = df['created_at'].dt.tz_localize(None)\n",
    "    df['created_at'] = df['created_at'].astype('datetime64[ms]')  # ← ¡ms, no us!\n",
    "\n",
    "    df['date'] = df['created_at'].dt.date.astype(str)\n",
    "\n",
    "    print(f\"✅ Transacciones generadas: {len(df):,} registros, {df['is_fraud'].sum():,} fraudes inyectados.\")\n",
    "    return df\n",
    "\n",
    "# COMMAND ----------\n",
    "\n",
    "# MAGIC %md\n",
    "# MAGIC ## 5. Ejecutar Generación y Guardar en Volume\n",
    "\n",
    "# COMMAND ----------\n",
    "\n",
    "# Crear directorio de salida\n",
    "print(f\"\uD83D\uDCC1 Creando directorio: {output_dir}\")\n",
    "dbutils.fs.mkdirs(output_dir)\n",
    "\n",
    "# Generar dimensiones\n",
    "print(\"\\n\uD83E\uDDE9 Generando tablas de dimensiones...\")\n",
    "merchants, payers, devices = generate_dimensions()\n",
    "\n",
    "# Guardar dimensiones\n",
    "print(\"\uD83D\uDCBE Guardando dimensiones...\")\n",
    "merchants.to_parquet(\n",
    "    os.path.join(output_dir, 'synthetic_merchants.parquet'),\n",
    "    engine='pyarrow'\n",
    ")\n",
    "payers.to_parquet(\n",
    "    os.path.join(output_dir, 'synthetic_payers.parquet'),\n",
    "    engine='pyarrow'\n",
    ")\n",
    "devices.to_parquet(\n",
    "    os.path.join(output_dir, 'synthetic_devices.parquet'),\n",
    "    engine='pyarrow'\n",
    ")\n",
    "\n",
    "# Generar transacciones\n",
    "print(\"\\n\uD83E\uDDE9 Generando transacciones...\")\n",
    "transactions_df = generate_qr_transactions(\n",
    "    num_transactions,\n",
    "    fraud_rate,\n",
    "    start_date,\n",
    "    merchants,\n",
    "    payers,\n",
    "    devices\n",
    ")\n",
    "\n",
    "# Ruta de salida para transacciones\n",
    "output_path = os.path.join(output_dir, 'synthetic_qr_transactions')\n",
    "print(f\"\uD83D\uDCC2 Ruta de salida: {output_path}\")\n",
    "\n",
    "# \uD83D\uDD25 ELIMINAR DATOS ANTIGUOS\n",
    "print(\"\uD83E\uDDF9 Eliminando datos antiguos (si existen)...\")\n",
    "try:\n",
    "    dbutils.fs.rm(output_path, True)\n",
    "    print(\"✅ Carpeta eliminada.\")\n",
    "except Exception as e:\n",
    "    print(f\"ℹ️ No se encontró carpeta anterior: {str(e)}\")\n",
    "\n",
    "# \uD83D\uDD25 GUARDAR CON PARÁMETROS COMPATIBLES\n",
    "print(\"\uD83D\uDCBE Guardando datos con configuración Spark-friendly...\")\n",
    "transactions_df.to_parquet(\n",
    "    output_path,\n",
    "    partition_cols=['date'],\n",
    "    engine='pyarrow',\n",
    "    use_deprecated_int96_timestamps=False,\n",
    "    coerce_timestamps='ms',          # ← Milisegundos\n",
    "    allow_truncated_timestamps=True,\n",
    "    compression='snappy'\n",
    ")\n",
    "\n",
    "print(\"\\n\uD83C\uDF89 ¡GENERACIÓN COMPLETADA!\")\n",
    "print(f\"\uD83D\uDCCA Transacciones: {len(transactions_df):,}\")\n",
    "print(f\"\uD83D\uDCC8 Fraudes: {transactions_df['is_fraud'].sum():,} ({transactions_df['is_fraud'].mean()*100:.3f}%)\")\n",
    "print(f\"\uD83D\uDCC1 Ubicación: {output_path}\")\n"
   ]
  },
  {
   "cell_type": "code",
   "execution_count": 0,
   "metadata": {
    "application/vnd.databricks.v1+cell": {
     "cellMetadata": {
      "byteLimit": 2048000,
      "rowLimit": 10000
     },
     "inputWidgets": {},
     "nuid": "f96b3818-fdaa-4ad8-9020-d7b2756448e1",
     "showTitle": false,
     "tableResultSettingsMap": {},
     "title": ""
    }
   },
   "outputs": [
    {
     "output_type": "stream",
     "name": "stdout",
     "output_type": "stream",
     "text": [
      "\uD83D\uDCC1 Archivos generados:\n\n\uD83D\uDCCB Esquema de los datos:\nroot\n |-- tx_id: long (nullable = true)\n |-- merchant_id: long (nullable = true)\n |-- payer_id: long (nullable = true)\n |-- device_id: string (nullable = true)\n |-- created_at: timestamp_ntz (nullable = true)\n |-- currency: string (nullable = true)\n |-- qr_type: string (nullable = true)\n |-- channel: string (nullable = true)\n |-- has_error: long (nullable = true)\n |-- amount: double (nullable = true)\n |-- merchant_lat: double (nullable = true)\n |-- merchant_lon: double (nullable = true)\n |-- mcc: long (nullable = true)\n |-- payer_lat: double (nullable = true)\n |-- payer_lon: double (nullable = true)\n |-- is_fraud: long (nullable = true)\n |-- qr_hash: string (nullable = true)\n |-- error_code: string (nullable = true)\n |-- __index_level_0__: long (nullable = true)\n |-- date: date (nullable = true)\n\n\n\uD83D\uDCCA Total registros: 1,000,000\n+----------+-------------+\n|      date|sum(is_fraud)|\n+----------+-------------+\n|2025-08-01|           79|\n|2025-08-02|           89|\n|2025-08-03|           80|\n|2025-08-04|           91|\n|2025-08-05|           67|\n+----------+-------------+\nonly showing top 5 rows\n"
     ]
    }
   ],
   "source": [
    "# En una nueva celda\n",
    "output_path = \"/Volumes/fraude_qr/bronze/raw_data/synthetic_data/synthetic_qr_transactions\"\n",
    "\n",
    "print(\"\uD83D\uDCC1 Archivos generados:\")\n",
    "dbutils.fs.ls(output_path)[:3]  # Muestra primeras 3 particiones\n",
    "\n",
    "print(\"\\n\uD83D\uDCCB Esquema de los datos:\")\n",
    "df = spark.read.parquet(output_path)\n",
    "df.printSchema()\n",
    "\n",
    "print(f\"\\n\uD83D\uDCCA Total registros: {df.count():,}\")\n",
    "df.select(\"is_fraud\", \"date\").groupBy(\"date\").sum(\"is_fraud\").orderBy(\"date\").show(5)"
   ]
  }
 ],
 "metadata": {
  "application/vnd.databricks.v1+notebook": {
   "computePreferences": {
    "hardware": {
     "accelerator": null,
     "gpuPoolId": null,
     "memory": null
    }
   },
   "dashboards": [],
   "environmentMetadata": {
    "base_environment": "",
    "environment_version": "3"
   },
   "inputWidgetPreferences": null,
   "language": "python",
   "notebookMetadata": {
    "mostRecentlyExecutedCommandWithImplicitDF": {
     "commandId": 5120634732865347,
     "dataframes": [
      "_sqldf"
     ]
    },
    "pythonIndentUnit": 4
   },
   "notebookName": "01_Generate_Synthetic_Data.ipynb",
   "widgets": {
    "fraud_rate": {
     "currentValue": "0.005",
     "nuid": "e1a6ecb9-7c26-4ba1-a034-79f20e5e98cf",
     "typedWidgetInfo": {
      "autoCreated": false,
      "defaultValue": "0.005",
      "label": "Tasa de Fraude",
      "name": "fraud_rate",
      "options": {
       "widgetDisplayType": "Text",
       "validationRegex": null
      },
      "parameterDataType": "String"
     },
     "widgetInfo": {
      "widgetType": "text",
      "defaultValue": "0.005",
      "label": "Tasa de Fraude",
      "name": "fraud_rate",
      "options": {
       "widgetType": "text",
       "autoCreated": null,
       "validationRegex": null
      }
     }
    },
    "num_transactions": {
     "currentValue": "100000",
     "nuid": "8f49d462-36f0-407b-8f2e-cbd47b6351e4",
     "typedWidgetInfo": {
      "autoCreated": false,
      "defaultValue": "100000",
      "label": "Número de Transacciones",
      "name": "num_transactions",
      "options": {
       "widgetDisplayType": "Text",
       "validationRegex": null
      },
      "parameterDataType": "String"
     },
     "widgetInfo": {
      "widgetType": "text",
      "defaultValue": "100000",
      "label": "Número de Transacciones",
      "name": "num_transactions",
      "options": {
       "widgetType": "text",
       "autoCreated": null,
       "validationRegex": null
      }
     }
    },
    "output_dir": {
     "currentValue": "/Volumes/fraude_qr/bronze/raw_data/synthetic_data",
     "nuid": "6d13467b-127b-4250-8e50-2f8eed57ebfd",
     "typedWidgetInfo": {
      "autoCreated": false,
      "defaultValue": "/Volumes/fraude_qr/bronze/raw_data/synthetic_data",
      "label": "Ruta de Salida en el Volume",
      "name": "output_dir",
      "options": {
       "widgetDisplayType": "Text",
       "validationRegex": null
      },
      "parameterDataType": "String"
     },
     "widgetInfo": {
      "widgetType": "text",
      "defaultValue": "/Volumes/fraude_qr/bronze/raw_data/synthetic_data",
      "label": "Ruta de Salida en el Volume",
      "name": "output_dir",
      "options": {
       "widgetType": "text",
       "autoCreated": null,
       "validationRegex": null
      }
     }
    }
   }
  },
  "language_info": {
   "name": "python"
  }
 },
 "nbformat": 4,
 "nbformat_minor": 0
}
