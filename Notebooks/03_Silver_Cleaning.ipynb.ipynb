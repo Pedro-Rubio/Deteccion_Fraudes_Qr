{
 "cells": [
  {
   "cell_type": "code",
   "execution_count": 0,
   "metadata": {
    "application/vnd.databricks.v1+cell": {
     "cellMetadata": {
      "byteLimit": 2048000,
      "rowLimit": 10000
     },
     "inputWidgets": {},
     "nuid": "1be04290-87db-40e4-8d41-9edb01a212df",
     "showTitle": false,
     "tableResultSettingsMap": {
      "0": {
       "dataGridStateBlob": "{\"version\":1,\"tableState\":{\"columnPinning\":{\"left\":[\"#row_number#\"],\"right\":[]},\"columnSizing\":{},\"columnVisibility\":{}},\"settings\":{\"columns\":{}},\"syncTimestamp\":1758328470184}",
       "filterBlob": null,
       "queryPlanFiltersBlob": null,
       "tableResultIndex": 0
      }
     },
     "title": ""
    }
   },
   "outputs": [
    {
     "output_type": "stream",
     "name": "stdout",
     "output_type": "stream",
     "text": [
      "\uD83D\uDCC2 Leyendo datos sintéticos desde: fraude_qr.bronze.qr_transactions_raw\n\uD83D\uDCC2 Leyendo datos de Kaggle desde: fraude_qr.bronze.qr_transactions_kaggle_raw\n\n\uD83D\uDD17 Unificando los datasets de Bronze...\n\uD83D\uDCCA Registros totales combinados: 7,362,620\n\uD83E\uDDFC Aplicando limpieza y transformaciones al dataset unificado...\n✅ Aplicando validaciones de calidad...\n\uD83D\uDCC9 Registros eliminados por validaciones: 16\n\uD83D\uDCCA Registros válidos finales: 7,362,604\n\n\uD83D\uDCBE Escribiendo en tabla Silver: fraude_qr.silver.qr_transactions\n\uD83C\uDF89 ¡Capa Silver creada y validada exitosamente!\n\n\uD83D\uDD0D Muestra de datos en fraude_qr.silver.qr_transactions:\n"
     ]
    },
    {
     "output_type": "display_data",
     "data": {
      "text/html": [
       "<style scoped>\n",
       "  .table-result-container {\n",
       "    max-height: 300px;\n",
       "    overflow: auto;\n",
       "  }\n",
       "  table, th, td {\n",
       "    border: 1px solid black;\n",
       "    border-collapse: collapse;\n",
       "  }\n",
       "  th, td {\n",
       "    padding: 5px;\n",
       "  }\n",
       "  th {\n",
       "    text-align: left;\n",
       "  }\n",
       "</style><div class='table-result-container'><table class='table-result'><thead style='background-color: white'><tr><th>tx_id</th><th>created_at</th><th>merchant_id</th><th>payer_id</th><th>amount</th><th>currency</th><th>qr_type</th><th>mcc</th><th>payer_lat</th><th>payer_lon</th><th>merchant_lat</th><th>merchant_lon</th><th>channel</th><th>has_error</th><th>error_code</th><th>is_fraud</th><th>source_file</th><th>ingested_at</th><th>bronze_batch_id</th><th>transaction_date</th><th>device_id_hashed</th><th>qr_hash_hashed</th><th>processed_at</th></tr></thead><tbody><tr><td>72413811</td><td>1970-01-04T00:00:00.000Z</td><td>265</td><td>13812</td><td>2947783.87</td><td>USD</td><td>dynamic</td><td>3360</td><td>-35.311</td><td>-59.211</td><td>-34.236</td><td>-58.135999999999996</td><td>app</td><td>0</td><td>null</td><td>1</td><td>null</td><td>null</td><td>null</td><td>1970-01-04</td><td>d893b38a514083ebb3f61241ff43aa15338224644ad5a63ae42e109c3fda2d5b</td><td>0558a9b3b1c74d0f7fc0a9fac8c60850caac50ecf8ac84ce94921d15dc7af746</td><td>2025-09-20T00:34:16.534Z</td></tr><tr><td>72934100</td><td>1970-01-04T00:00:00.000Z</td><td>946</td><td>34101</td><td>2947783.87</td><td>USD</td><td>dynamic</td><td>5567</td><td>-34.6</td><td>-58.5</td><td>-33.555</td><td>-57.455</td><td>app</td><td>0</td><td>null</td><td>1</td><td>null</td><td>null</td><td>null</td><td>1970-01-04</td><td>d893b38a514083ebb3f61241ff43aa15338224644ad5a63ae42e109c3fda2d5b</td><td>0558a9b3b1c74d0f7fc0a9fac8c60850caac50ecf8ac84ce94921d15dc7af746</td><td>2025-09-20T00:34:16.534Z</td></tr><tr><td>72831591</td><td>1970-01-04T00:00:00.000Z</td><td>3010</td><td>31592</td><td>730574.39</td><td>USD</td><td>dynamic</td><td>3360</td><td>-35.091</td><td>-58.991</td><td>-34.491</td><td>-58.391</td><td>app</td><td>0</td><td>null</td><td>1</td><td>null</td><td>null</td><td>null</td><td>1970-01-04</td><td>d893b38a514083ebb3f61241ff43aa15338224644ad5a63ae42e109c3fda2d5b</td><td>0558a9b3b1c74d0f7fc0a9fac8c60850caac50ecf8ac84ce94921d15dc7af746</td><td>2025-09-20T00:34:16.534Z</td></tr><tr><td>72895449</td><td>1970-01-04T00:00:00.000Z</td><td>1848</td><td>45450</td><td>730574.39</td><td>USD</td><td>dynamic</td><td>5567</td><td>-34.949</td><td>-58.849</td><td>-33.653</td><td>-57.553</td><td>app</td><td>0</td><td>null</td><td>1</td><td>null</td><td>null</td><td>null</td><td>1970-01-04</td><td>d893b38a514083ebb3f61241ff43aa15338224644ad5a63ae42e109c3fda2d5b</td><td>0558a9b3b1c74d0f7fc0a9fac8c60850caac50ecf8ac84ce94921d15dc7af746</td><td>2025-09-20T00:34:16.534Z</td></tr><tr><td>72726957</td><td>1970-01-04T00:00:00.000Z</td><td>7196</td><td>26958</td><td>3786438.03</td><td>USD</td><td>dynamic</td><td>3360</td><td>-35.457</td><td>-59.357</td><td>-34.305</td><td>-58.205</td><td>app</td><td>0</td><td>null</td><td>1</td><td>null</td><td>null</td><td>null</td><td>1970-01-04</td><td>d893b38a514083ebb3f61241ff43aa15338224644ad5a63ae42e109c3fda2d5b</td><td>0558a9b3b1c74d0f7fc0a9fac8c60850caac50ecf8ac84ce94921d15dc7af746</td><td>2025-09-20T00:34:16.534Z</td></tr></tbody></table></div>"
      ]
     },
     "metadata": {
      "application/vnd.databricks.v1+output": {
       "addedWidgets": {},
       "aggData": [],
       "aggError": "",
       "aggOverflow": false,
       "aggSchema": [],
       "aggSeriesLimitReached": false,
       "aggType": "",
       "arguments": {},
       "columnCustomDisplayInfos": {},
       "data": [
        [
         72413811,
         "1970-01-04T00:00:00.000Z",
         265,
         13812,
         2947783.87,
         "USD",
         "dynamic",
         3360,
         -35.311,
         -59.211,
         -34.236,
         -58.135999999999996,
         "app",
         0,
         null,
         1,
         null,
         null,
         null,
         "1970-01-04",
         "d893b38a514083ebb3f61241ff43aa15338224644ad5a63ae42e109c3fda2d5b",
         "0558a9b3b1c74d0f7fc0a9fac8c60850caac50ecf8ac84ce94921d15dc7af746",
         "2025-09-20T00:34:16.534Z"
        ],
        [
         72934100,
         "1970-01-04T00:00:00.000Z",
         946,
         34101,
         2947783.87,
         "USD",
         "dynamic",
         5567,
         -34.6,
         -58.5,
         -33.555,
         -57.455,
         "app",
         0,
         null,
         1,
         null,
         null,
         null,
         "1970-01-04",
         "d893b38a514083ebb3f61241ff43aa15338224644ad5a63ae42e109c3fda2d5b",
         "0558a9b3b1c74d0f7fc0a9fac8c60850caac50ecf8ac84ce94921d15dc7af746",
         "2025-09-20T00:34:16.534Z"
        ],
        [
         72831591,
         "1970-01-04T00:00:00.000Z",
         3010,
         31592,
         730574.39,
         "USD",
         "dynamic",
         3360,
         -35.091,
         -58.991,
         -34.491,
         -58.391,
         "app",
         0,
         null,
         1,
         null,
         null,
         null,
         "1970-01-04",
         "d893b38a514083ebb3f61241ff43aa15338224644ad5a63ae42e109c3fda2d5b",
         "0558a9b3b1c74d0f7fc0a9fac8c60850caac50ecf8ac84ce94921d15dc7af746",
         "2025-09-20T00:34:16.534Z"
        ],
        [
         72895449,
         "1970-01-04T00:00:00.000Z",
         1848,
         45450,
         730574.39,
         "USD",
         "dynamic",
         5567,
         -34.949,
         -58.849,
         -33.653,
         -57.553,
         "app",
         0,
         null,
         1,
         null,
         null,
         null,
         "1970-01-04",
         "d893b38a514083ebb3f61241ff43aa15338224644ad5a63ae42e109c3fda2d5b",
         "0558a9b3b1c74d0f7fc0a9fac8c60850caac50ecf8ac84ce94921d15dc7af746",
         "2025-09-20T00:34:16.534Z"
        ],
        [
         72726957,
         "1970-01-04T00:00:00.000Z",
         7196,
         26958,
         3786438.03,
         "USD",
         "dynamic",
         3360,
         -35.457,
         -59.357,
         -34.305,
         -58.205,
         "app",
         0,
         null,
         1,
         null,
         null,
         null,
         "1970-01-04",
         "d893b38a514083ebb3f61241ff43aa15338224644ad5a63ae42e109c3fda2d5b",
         "0558a9b3b1c74d0f7fc0a9fac8c60850caac50ecf8ac84ce94921d15dc7af746",
         "2025-09-20T00:34:16.534Z"
        ]
       ],
       "datasetInfos": [],
       "dbfsResultPath": null,
       "isJsonSchema": true,
       "metadata": {},
       "overflow": false,
       "plotOptions": {
        "customPlotOptions": {},
        "displayType": "table",
        "pivotAggregation": null,
        "pivotColumns": null,
        "xColumns": null,
        "yColumns": null
       },
       "removedWidgets": [],
       "schema": [
        {
         "metadata": "{}",
         "name": "tx_id",
         "type": "\"long\""
        },
        {
         "metadata": "{}",
         "name": "created_at",
         "type": "\"timestamp\""
        },
        {
         "metadata": "{}",
         "name": "merchant_id",
         "type": "\"long\""
        },
        {
         "metadata": "{}",
         "name": "payer_id",
         "type": "\"long\""
        },
        {
         "metadata": "{}",
         "name": "amount",
         "type": "\"double\""
        },
        {
         "metadata": "{}",
         "name": "currency",
         "type": "\"string\""
        },
        {
         "metadata": "{}",
         "name": "qr_type",
         "type": "\"string\""
        },
        {
         "metadata": "{}",
         "name": "mcc",
         "type": "\"long\""
        },
        {
         "metadata": "{}",
         "name": "payer_lat",
         "type": "\"double\""
        },
        {
         "metadata": "{}",
         "name": "payer_lon",
         "type": "\"double\""
        },
        {
         "metadata": "{}",
         "name": "merchant_lat",
         "type": "\"double\""
        },
        {
         "metadata": "{}",
         "name": "merchant_lon",
         "type": "\"double\""
        },
        {
         "metadata": "{}",
         "name": "channel",
         "type": "\"string\""
        },
        {
         "metadata": "{}",
         "name": "has_error",
         "type": "\"integer\""
        },
        {
         "metadata": "{}",
         "name": "error_code",
         "type": "\"string\""
        },
        {
         "metadata": "{}",
         "name": "is_fraud",
         "type": "\"integer\""
        },
        {
         "metadata": "{}",
         "name": "source_file",
         "type": "\"string\""
        },
        {
         "metadata": "{}",
         "name": "ingested_at",
         "type": "\"timestamp\""
        },
        {
         "metadata": "{}",
         "name": "bronze_batch_id",
         "type": "\"string\""
        },
        {
         "metadata": "{}",
         "name": "transaction_date",
         "type": "\"date\""
        },
        {
         "metadata": "{}",
         "name": "device_id_hashed",
         "type": "\"string\""
        },
        {
         "metadata": "{}",
         "name": "qr_hash_hashed",
         "type": "\"string\""
        },
        {
         "metadata": "{}",
         "name": "processed_at",
         "type": "\"timestamp\""
        }
       ],
       "type": "table"
      }
     },
     "output_type": "display_data"
    }
   ],
   "source": [
    "# MAGIC %md\n",
    "# MAGIC # \uD83E\uDDF9 03_Silver_Cleaning\n",
    "# MAGIC Limpia, enriquece, valida y unifica los datos de transacciones QR desde todas las fuentes Bronze.\n",
    "# MAGIC - Lee desde `bronze.qr_transactions_raw` (sintético) y `bronze.qr_transactions_kaggle_raw` (Kaggle).\n",
    "# MAGIC - **Unifica** los dos datasets en uno solo.\n",
    "# MAGIC - Limpia, aplica hashing a PII y enriquece los datos.\n",
    "# MAGIC - Valida la calidad de los datos combinados.\n",
    "# MAGIC - Escribe en la tabla `silver.qr_transactions`.\n",
    "\n",
    "# COMMAND ----------\n",
    "\n",
    "from pyspark.sql.functions import sha2, col, to_date, current_timestamp, lit\n",
    "\n",
    "# --- 1. Configuración de Rutas y Tablas ---\n",
    "# CAMBIO CLAVE: Definimos ambas tablas de origen\n",
    "bronze_synthetic_table = \"fraude_qr.bronze.qr_transactions_raw\"\n",
    "bronze_kaggle_table = \"fraude_qr.bronze.qr_transactions_kaggle_raw\"\n",
    "\n",
    "# La tabla Silver de destino será nuestra única fuente de verdad\n",
    "silver_table = \"fraude_qr.silver.qr_transactions\"\n",
    "\n",
    "# --- 2. Leer desde ambas fuentes Bronze ---\n",
    "print(f\"\uD83D\uDCC2 Leyendo datos sintéticos desde: {bronze_synthetic_table}\")\n",
    "df_synthetic = spark.table(bronze_synthetic_table)\n",
    "\n",
    "print(f\"\uD83D\uDCC2 Leyendo datos de Kaggle desde: {bronze_kaggle_table}\")\n",
    "df_kaggle = spark.table(bronze_kaggle_table)\n",
    "\n",
    "# --- 3. Unificar los DataFrames ---\n",
    "print(\"\\n\uD83D\uDD17 Unificando los datasets de Bronze...\")\n",
    "\n",
    "# Usamos unionByName para unir por nombre de columna, lo que es más robusto.\n",
    "# allowMissingColumns=True añade columnas que falten en uno de los DFs como nulas.\n",
    "df_combined = df_synthetic.unionByName(df_kaggle, allowMissingColumns=True)\n",
    "\n",
    "print(f\"\uD83D\uDCCA Registros totales combinados: {df_combined.count():,}\")\n",
    "\n",
    "# --- 4. Aplicar Transformaciones y Limpieza ---\n",
    "print(\"\uD83E\uDDFC Aplicando limpieza y transformaciones al dataset unificado...\")\n",
    "\n",
    "df_clean = (\n",
    "    df_combined\n",
    "    # 1. Eliminar columnas residuales si existen (de Pandas)\n",
    "    .drop(\"__index_level_0__\")\n",
    "    \n",
    "    # 2. Asegurar columna de partición 'transaction_date' a partir de 'created_at'\n",
    "    # Esta es la columna que definimos en nuestro DDL de Silver\n",
    "    .withColumn(\"transaction_date\", to_date(col(\"created_at\")))\n",
    "    \n",
    "    # 3. Aplicar hashing a columnas con posible PII\n",
    "    # El hashing se aplica de forma consistente a ambos datasets\n",
    "    .withColumn(\"device_id_hashed\", sha2(col(\"device_id\"), 256))\n",
    "    .withColumn(\"qr_hash_hashed\", sha2(col(\"qr_hash\"), 256))\n",
    "    \n",
    "    # 4. Agregar metadata del pipeline\n",
    "    .withColumn(\"processed_at\", current_timestamp())\n",
    "    \n",
    "    # 5. Eliminar columnas sensibles originales y la columna 'date' redundante\n",
    "    .drop(\"device_id\", \"qr_hash\", \"date\")\n",
    ")\n",
    "\n",
    "# --- 5. Validar Calidad de los Datos Combinados ---\n",
    "print(\"✅ Aplicando validaciones de calidad...\")\n",
    "\n",
    "# Aplicamos las mismas reglas de calidad a todos los datos\n",
    "# Esto asegura la integridad de nuestra capa Silver\n",
    "initial_count = df_clean.count()\n",
    "\n",
    "df_validated = df_clean.filter(\n",
    "    (col(\"tx_id\").isNotNull()) &\n",
    "    (col(\"created_at\").isNotNull()) &\n",
    "    (col(\"amount\") > 0) &\n",
    "    (col(\"merchant_id\").isNotNull()) &\n",
    "    (col(\"payer_id\").isNotNull()) &\n",
    "    (col(\"is_fraud\").isin([0, 1]))\n",
    ")\n",
    "\n",
    "final_count = df_validated.count()\n",
    "print(f\"\uD83D\uDCC9 Registros eliminados por validaciones: {initial_count - final_count:,}\")\n",
    "print(f\"\uD83D\uDCCA Registros válidos finales: {final_count:,}\")\n",
    "\n",
    "# --- 6. Escribir en Tabla Silver ---\n",
    "print(f\"\\n\uD83D\uDCBE Escribiendo en tabla Silver: {silver_table}\")\n",
    "\n",
    "(\n",
    "    df_validated\n",
    "    .write\n",
    "    .mode(\"overwrite\")\n",
    "    .partitionBy(\"transaction_date\") # Particionamos por la columna correcta\n",
    "    .option(\"overwriteSchema\", \"true\")\n",
    "    .saveAsTable(silver_table)\n",
    ")\n",
    "\n",
    "print(\"\uD83C\uDF89 ¡Capa Silver creada y validada exitosamente!\")\n",
    "\n",
    "# --- 7. Verificar Resultados ---\n",
    "print(f\"\\n\uD83D\uDD0D Muestra de datos en {silver_table}:\")\n",
    "spark.table(silver_table).limit(5).display()"
   ]
  }
 ],
 "metadata": {
  "application/vnd.databricks.v1+notebook": {
   "computePreferences": null,
   "dashboards": [],
   "environmentMetadata": {
    "base_environment": "",
    "environment_version": "3"
   },
   "inputWidgetPreferences": null,
   "language": "python",
   "notebookMetadata": {
    "pythonIndentUnit": 4
   },
   "notebookName": "03_Silver_Cleaning.ipynb",
   "widgets": {}
  },
  "language_info": {
   "name": "python"
  }
 },
 "nbformat": 4,
 "nbformat_minor": 0
}
