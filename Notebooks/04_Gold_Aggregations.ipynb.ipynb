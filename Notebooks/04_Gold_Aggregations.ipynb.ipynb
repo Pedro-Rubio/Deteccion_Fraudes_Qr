{
 "cells": [
  {
   "cell_type": "code",
   "execution_count": 0,
   "metadata": {
    "application/vnd.databricks.v1+cell": {
     "cellMetadata": {
      "byteLimit": 2048000,
      "rowLimit": 10000
     },
     "inputWidgets": {},
     "nuid": "7ac157fd-155c-45ef-a8b4-0ed475bced5b",
     "showTitle": false,
     "tableResultSettingsMap": {},
     "title": ""
    }
   },
   "outputs": [
    {
     "output_type": "stream",
     "name": "stdout",
     "output_type": "stream",
     "text": [
      "\uD83D\uDCC2 Leyendo datos desde: fraude_qr.silver.qr_transactions\n\uD83D\uDCCA Registros en Silver: 7,362,604\n\n\uD83E\uDDF1 Construyendo tabla de hechos: fact_qr_tx_daily...\n✅ Tabla de hechos guardada: fraude_qr.gold.fact_qr_tx_daily\n\n\uD83C\uDFF7️ Construyendo dimensión: dim_merchant...\n✅ Dimensión guardada: fraude_qr.gold.dim_merchant\n\n\uD83C\uDFF7️ Construyendo dimensión: dim_payer...\n✅ Dimensión guardada: fraude_qr.gold.dim_payer\n\n\uD83D\uDCC8 Creando vista para BI: dash_daily_kpis...\n✅ Vista para BI guardada: fraude_qr.gold.dash_daily_kpis\n\n\uD83D\uDD0D Muestra de fact_qr_tx_daily:\n"
     ]
    },
    {
     "output_type": "display_data",
     "data": {
      "text/html": [
       "<style scoped>\n",
       "  .table-result-container {\n",
       "    max-height: 300px;\n",
       "    overflow: auto;\n",
       "  }\n",
       "  table, th, td {\n",
       "    border: 1px solid black;\n",
       "    border-collapse: collapse;\n",
       "  }\n",
       "  th, td {\n",
       "    padding: 5px;\n",
       "  }\n",
       "  th {\n",
       "    text-align: left;\n",
       "  }\n",
       "</style><div class='table-result-container'><table class='table-result'><thead style='background-color: white'><tr><th>date_key</th><th>merchant_id</th><th>currency</th><th>channel</th><th>qr_type</th><th>tx_count</th><th>amount_sum</th><th>fraud_count</th><th>fraud_amount_sum</th><th>avg_amount</th><th>stddev_amount</th><th>last_tx_time</th><th>fraud_rate</th><th>fraud_ratio_amount</th></tr></thead><tbody><tr><td>1970-01-04</td><td>63</td><td>USD</td><td>app</td><td>dynamic</td><td>3</td><td>181452.03</td><td>0</td><td>0.0</td><td>60484.01</td><td>102903.12540219029</td><td>1970-01-04T23:00:00.000Z</td><td>0.0</td><td>0.0</td></tr><tr><td>1970-01-04</td><td>5227</td><td>USD</td><td>app</td><td>dynamic</td><td>6</td><td>223179.89</td><td>0</td><td>0.0</td><td>37196.64833333334</td><td>60677.68917921955</td><td>1970-01-04T23:00:00.000Z</td><td>0.0</td><td>0.0</td></tr><tr><td>1970-01-04</td><td>383</td><td>USD</td><td>app</td><td>dynamic</td><td>1</td><td>19696.0</td><td>0</td><td>0.0</td><td>19696.0</td><td>null</td><td>1970-01-04T21:00:00.000Z</td><td>0.0</td><td>0.0</td></tr><tr><td>1970-01-04</td><td>4406</td><td>USD</td><td>app</td><td>dynamic</td><td>7</td><td>373380.36999999994</td><td>0</td><td>0.0</td><td>53340.05285714285</td><td>59330.27155182159</td><td>1970-01-04T23:00:00.000Z</td><td>0.0</td><td>0.0</td></tr><tr><td>1970-01-04</td><td>4029</td><td>USD</td><td>app</td><td>dynamic</td><td>3</td><td>789023.04</td><td>0</td><td>0.0</td><td>263007.68</td><td>404625.2904435988</td><td>1970-01-04T22:00:00.000Z</td><td>0.0</td><td>0.0</td></tr></tbody></table></div>"
      ]
     },
     "metadata": {
      "application/vnd.databricks.v1+output": {
       "addedWidgets": {},
       "aggData": [],
       "aggError": "",
       "aggOverflow": false,
       "aggSchema": [],
       "aggSeriesLimitReached": false,
       "aggType": "",
       "arguments": {},
       "columnCustomDisplayInfos": {},
       "data": [
        [
         "1970-01-04",
         63,
         "USD",
         "app",
         "dynamic",
         3,
         181452.03,
         0,
         0.0,
         60484.01,
         102903.12540219029,
         "1970-01-04T23:00:00.000Z",
         0.0,
         0.0
        ],
        [
         "1970-01-04",
         5227,
         "USD",
         "app",
         "dynamic",
         6,
         223179.89,
         0,
         0.0,
         37196.64833333334,
         60677.68917921955,
         "1970-01-04T23:00:00.000Z",
         0.0,
         0.0
        ],
        [
         "1970-01-04",
         383,
         "USD",
         "app",
         "dynamic",
         1,
         19696.0,
         0,
         0.0,
         19696.0,
         null,
         "1970-01-04T21:00:00.000Z",
         0.0,
         0.0
        ],
        [
         "1970-01-04",
         4406,
         "USD",
         "app",
         "dynamic",
         7,
         373380.36999999994,
         0,
         0.0,
         53340.05285714285,
         59330.27155182159,
         "1970-01-04T23:00:00.000Z",
         0.0,
         0.0
        ],
        [
         "1970-01-04",
         4029,
         "USD",
         "app",
         "dynamic",
         3,
         789023.04,
         0,
         0.0,
         263007.68,
         404625.2904435988,
         "1970-01-04T22:00:00.000Z",
         0.0,
         0.0
        ]
       ],
       "datasetInfos": [],
       "dbfsResultPath": null,
       "isJsonSchema": true,
       "metadata": {},
       "overflow": false,
       "plotOptions": {
        "customPlotOptions": {},
        "displayType": "table",
        "pivotAggregation": null,
        "pivotColumns": null,
        "xColumns": null,
        "yColumns": null
       },
       "removedWidgets": [],
       "schema": [
        {
         "metadata": "{}",
         "name": "date_key",
         "type": "\"date\""
        },
        {
         "metadata": "{}",
         "name": "merchant_id",
         "type": "\"long\""
        },
        {
         "metadata": "{}",
         "name": "currency",
         "type": "\"string\""
        },
        {
         "metadata": "{}",
         "name": "channel",
         "type": "\"string\""
        },
        {
         "metadata": "{}",
         "name": "qr_type",
         "type": "\"string\""
        },
        {
         "metadata": "{}",
         "name": "tx_count",
         "type": "\"long\""
        },
        {
         "metadata": "{}",
         "name": "amount_sum",
         "type": "\"double\""
        },
        {
         "metadata": "{}",
         "name": "fraud_count",
         "type": "\"long\""
        },
        {
         "metadata": "{}",
         "name": "fraud_amount_sum",
         "type": "\"double\""
        },
        {
         "metadata": "{}",
         "name": "avg_amount",
         "type": "\"double\""
        },
        {
         "metadata": "{}",
         "name": "stddev_amount",
         "type": "\"double\""
        },
        {
         "metadata": "{}",
         "name": "last_tx_time",
         "type": "\"timestamp\""
        },
        {
         "metadata": "{}",
         "name": "fraud_rate",
         "type": "\"double\""
        },
        {
         "metadata": "{}",
         "name": "fraud_ratio_amount",
         "type": "\"double\""
        }
       ],
       "type": "table"
      }
     },
     "output_type": "display_data"
    },
    {
     "output_type": "stream",
     "name": "stdout",
     "output_type": "stream",
     "text": [
      "\n\uD83D\uDCCA Total días en fact_qr_tx_daily: 61\n\n\uD83D\uDD0D Muestra de dim_merchant:\n"
     ]
    },
    {
     "output_type": "display_data",
     "data": {
      "text/html": [
       "<style scoped>\n",
       "  .table-result-container {\n",
       "    max-height: 300px;\n",
       "    overflow: auto;\n",
       "  }\n",
       "  table, th, td {\n",
       "    border: 1px solid black;\n",
       "    border-collapse: collapse;\n",
       "  }\n",
       "  th, td {\n",
       "    padding: 5px;\n",
       "  }\n",
       "  th {\n",
       "    text-align: left;\n",
       "  }\n",
       "</style><div class='table-result-container'><table class='table-result'><thead style='background-color: white'><tr><th>merchant_id</th><th>total_tx_last_30d</th><th>total_amount_last_30d</th><th>avg_amount</th><th>stddev_amount</th><th>fraud_count_last_30d</th><th>last_tx_date</th><th>merchant_lat</th><th>merchant_lon</th><th>fraud_rate</th><th>risk_tier</th></tr></thead><tbody><tr><td>271</td><td>619</td><td>9.316098870310569E7</td><td>150502.4050130948</td><td>545898.1670205811</td><td>0</td><td>2025-08-30T21:21:09.000Z</td><td>-34.23</td><td>-58.129999999999995</td><td>0.0</td><td>low</td></tr><tr><td>1785</td><td>815</td><td>1.2127584721115255E8</td><td>148804.72050448167</td><td>357551.0743866862</td><td>1</td><td>2025-08-30T20:13:55.000Z</td><td>-33.716</td><td>-57.616</td><td>0.001226993865030675</td><td>low</td></tr><tr><td>9762</td><td>705</td><td>1.5735216975036043E8</td><td>223194.56702178784</td><td>1067173.2772922984</td><td>1</td><td>2025-08-30T19:29:35.000Z</td><td>-33.739</td><td>-57.638999999999996</td><td>0.0014184397163120568</td><td>low</td></tr><tr><td>2851</td><td>727</td><td>1.0062495330318904E8</td><td>138411.214997509</td><td>343855.4277300972</td><td>0</td><td>2025-08-30T10:52:57.000Z</td><td>-33.65</td><td>-57.55</td><td>0.0</td><td>low</td></tr><tr><td>1898</td><td>711</td><td>1.2763948803800723E8</td><td>179521.08022223238</td><td>776429.588846741</td><td>1</td><td>2025-08-30T22:04:47.000Z</td><td>-33.603</td><td>-57.503</td><td>0.0014064697609001407</td><td>low</td></tr></tbody></table></div>"
      ]
     },
     "metadata": {
      "application/vnd.databricks.v1+output": {
       "addedWidgets": {},
       "aggData": [],
       "aggError": "",
       "aggOverflow": false,
       "aggSchema": [],
       "aggSeriesLimitReached": false,
       "aggType": "",
       "arguments": {},
       "columnCustomDisplayInfos": {},
       "data": [
        [
         271,
         619,
         9.316098870310569E7,
         150502.4050130948,
         545898.1670205811,
         0,
         "2025-08-30T21:21:09.000Z",
         -34.23,
         -58.129999999999995,
         0.0,
         "low"
        ],
        [
         1785,
         815,
         1.2127584721115255E8,
         148804.72050448167,
         357551.0743866862,
         1,
         "2025-08-30T20:13:55.000Z",
         -33.716,
         -57.616,
         0.001226993865030675,
         "low"
        ],
        [
         9762,
         705,
         1.5735216975036043E8,
         223194.56702178784,
         1067173.2772922984,
         1,
         "2025-08-30T19:29:35.000Z",
         -33.739,
         -57.638999999999996,
         0.0014184397163120568,
         "low"
        ],
        [
         2851,
         727,
         1.0062495330318904E8,
         138411.214997509,
         343855.4277300972,
         0,
         "2025-08-30T10:52:57.000Z",
         -33.65,
         -57.55,
         0.0,
         "low"
        ],
        [
         1898,
         711,
         1.2763948803800723E8,
         179521.08022223238,
         776429.588846741,
         1,
         "2025-08-30T22:04:47.000Z",
         -33.603,
         -57.503,
         0.0014064697609001407,
         "low"
        ]
       ],
       "datasetInfos": [],
       "dbfsResultPath": null,
       "isJsonSchema": true,
       "metadata": {},
       "overflow": false,
       "plotOptions": {
        "customPlotOptions": {},
        "displayType": "table",
        "pivotAggregation": null,
        "pivotColumns": null,
        "xColumns": null,
        "yColumns": null
       },
       "removedWidgets": [],
       "schema": [
        {
         "metadata": "{}",
         "name": "merchant_id",
         "type": "\"long\""
        },
        {
         "metadata": "{}",
         "name": "total_tx_last_30d",
         "type": "\"long\""
        },
        {
         "metadata": "{}",
         "name": "total_amount_last_30d",
         "type": "\"double\""
        },
        {
         "metadata": "{}",
         "name": "avg_amount",
         "type": "\"double\""
        },
        {
         "metadata": "{}",
         "name": "stddev_amount",
         "type": "\"double\""
        },
        {
         "metadata": "{}",
         "name": "fraud_count_last_30d",
         "type": "\"long\""
        },
        {
         "metadata": "{}",
         "name": "last_tx_date",
         "type": "\"timestamp\""
        },
        {
         "metadata": "{}",
         "name": "merchant_lat",
         "type": "\"double\""
        },
        {
         "metadata": "{}",
         "name": "merchant_lon",
         "type": "\"double\""
        },
        {
         "metadata": "{}",
         "name": "fraud_rate",
         "type": "\"double\""
        },
        {
         "metadata": "{}",
         "name": "risk_tier",
         "type": "\"string\""
        }
       ],
       "type": "table"
      }
     },
     "output_type": "display_data"
    },
    {
     "output_type": "stream",
     "name": "stdout",
     "output_type": "stream",
     "text": [
      "\n\uD83D\uDD0D Muestra de dash_daily_kpis:\n"
     ]
    },
    {
     "output_type": "display_data",
     "data": {
      "text/html": [
       "<style scoped>\n",
       "  .table-result-container {\n",
       "    max-height: 300px;\n",
       "    overflow: auto;\n",
       "  }\n",
       "  table, th, td {\n",
       "    border: 1px solid black;\n",
       "    border-collapse: collapse;\n",
       "  }\n",
       "  th, td {\n",
       "    padding: 5px;\n",
       "  }\n",
       "  th {\n",
       "    text-align: left;\n",
       "  }\n",
       "</style><div class='table-result-container'><table class='table-result'><thead style='background-color: white'><tr><th>date_key</th><th>tx_count</th><th>fraud_count</th><th>amount_sum</th><th>fraud_amount_sum</th><th>fraud_rate</th><th>fraud_ratio_amount</th><th>channel</th><th>qr_type</th><th>expected_loss</th></tr></thead><tbody><tr><td>1970-01-01</td><td>26</td><td>0</td><td>1944858.3400000003</td><td>0.0</td><td>0.0</td><td>0.0</td><td>app</td><td>dynamic</td><td>0.0</td></tr><tr><td>1970-01-01</td><td>71</td><td>0</td><td>1.119811859E7</td><td>0.0</td><td>0.0</td><td>0.0</td><td>app</td><td>dynamic</td><td>0.0</td></tr><tr><td>1970-01-01</td><td>27</td><td>1</td><td>983647.0300000001</td><td>170.0</td><td>0.037037037037037035</td><td>1.728262220239713E-4</td><td>app</td><td>dynamic</td><td>170.0</td></tr><tr><td>1970-01-01</td><td>41</td><td>0</td><td>1.0504994600000001E7</td><td>0.0</td><td>0.0</td><td>0.0</td><td>app</td><td>dynamic</td><td>0.0</td></tr><tr><td>1970-01-01</td><td>51</td><td>0</td><td>7582524.5699999975</td><td>0.0</td><td>0.0</td><td>0.0</td><td>app</td><td>dynamic</td><td>0.0</td></tr></tbody></table></div>"
      ]
     },
     "metadata": {
      "application/vnd.databricks.v1+output": {
       "addedWidgets": {},
       "aggData": [],
       "aggError": "",
       "aggOverflow": false,
       "aggSchema": [],
       "aggSeriesLimitReached": false,
       "aggType": "",
       "arguments": {},
       "columnCustomDisplayInfos": {},
       "data": [
        [
         "1970-01-01",
         26,
         0,
         1944858.3400000003,
         0.0,
         0.0,
         0.0,
         "app",
         "dynamic",
         0.0
        ],
        [
         "1970-01-01",
         71,
         0,
         1.119811859E7,
         0.0,
         0.0,
         0.0,
         "app",
         "dynamic",
         0.0
        ],
        [
         "1970-01-01",
         27,
         1,
         983647.0300000001,
         170.0,
         0.037037037037037035,
         1.728262220239713E-4,
         "app",
         "dynamic",
         170.0
        ],
        [
         "1970-01-01",
         41,
         0,
         1.0504994600000001E7,
         0.0,
         0.0,
         0.0,
         "app",
         "dynamic",
         0.0
        ],
        [
         "1970-01-01",
         51,
         0,
         7582524.5699999975,
         0.0,
         0.0,
         0.0,
         "app",
         "dynamic",
         0.0
        ]
       ],
       "datasetInfos": [],
       "dbfsResultPath": null,
       "isJsonSchema": true,
       "metadata": {},
       "overflow": false,
       "plotOptions": {
        "customPlotOptions": {},
        "displayType": "table",
        "pivotAggregation": null,
        "pivotColumns": null,
        "xColumns": null,
        "yColumns": null
       },
       "removedWidgets": [],
       "schema": [
        {
         "metadata": "{}",
         "name": "date_key",
         "type": "\"date\""
        },
        {
         "metadata": "{}",
         "name": "tx_count",
         "type": "\"long\""
        },
        {
         "metadata": "{}",
         "name": "fraud_count",
         "type": "\"long\""
        },
        {
         "metadata": "{}",
         "name": "amount_sum",
         "type": "\"double\""
        },
        {
         "metadata": "{}",
         "name": "fraud_amount_sum",
         "type": "\"double\""
        },
        {
         "metadata": "{}",
         "name": "fraud_rate",
         "type": "\"double\""
        },
        {
         "metadata": "{}",
         "name": "fraud_ratio_amount",
         "type": "\"double\""
        },
        {
         "metadata": "{}",
         "name": "channel",
         "type": "\"string\""
        },
        {
         "metadata": "{}",
         "name": "qr_type",
         "type": "\"string\""
        },
        {
         "metadata": "{}",
         "name": "expected_loss",
         "type": "\"double\""
        }
       ],
       "type": "table"
      }
     },
     "output_type": "display_data"
    }
   ],
   "source": [
    "# MAGIC %md\n",
    "# MAGIC # \uD83C\uDFC6 04_Gold_Aggregations\n",
    "# MAGIC Construye tablas de hechos, dimensiones y agregados optimizados para BI y ML.\n",
    "# MAGIC - Lee desde `fraude_qr.silver.qr_transactions`\n",
    "# MAGIC - Crea tabla de hechos diaria: `gold.fact_qr_tx_daily`\n",
    "# MAGIC - Crea dimensiones enriquecidas: `gold.dim_merchant`, `gold.dim_payer`\n",
    "# MAGIC - Crea vista para BI: `gold.dash_daily_kpis`\n",
    "# MAGIC - Particiona y optimiza para rendimiento.\n",
    "\n",
    "# COMMAND ----------\n",
    "\n",
    "from pyspark.sql.functions import col, count, sum, avg, max, date_trunc, current_date, when, lit, stddev\n",
    "\n",
    "# --- 1. Configuración ---\n",
    "silver_table = \"fraude_qr.silver.qr_transactions\"\n",
    "gold_fact_table = \"fraude_qr.gold.fact_qr_tx_daily\"\n",
    "gold_dim_merchant_table = \"fraude_qr.gold.dim_merchant\"\n",
    "gold_dim_payer_table = \"fraude_qr.gold.dim_payer\"\n",
    "gold_dash_table = \"fraude_qr.gold.dash_daily_kpis\"\n",
    "\n",
    "# --- 2. Leer desde Silver ---\n",
    "print(f\"\uD83D\uDCC2 Leyendo datos desde: {silver_table}\")\n",
    "df_silver = spark.table(silver_table)\n",
    "print(f\"\uD83D\uDCCA Registros en Silver: {df_silver.count():,}\")\n",
    "\n",
    "# --- 3. Crear Tabla de Hechos: Transacciones Diarias ---\n",
    "print(\"\\n\uD83E\uDDF1 Construyendo tabla de hechos: fact_qr_tx_daily...\")\n",
    "\n",
    "df_fact_daily = (\n",
    "    df_silver\n",
    "    .withColumn(\"date_key\", date_trunc(\"day\", col(\"created_at\")).cast(\"date\"))\n",
    "    .groupBy(\"date_key\", \"merchant_id\", \"currency\", \"channel\", \"qr_type\")\n",
    "    .agg(\n",
    "        count(\"*\").alias(\"tx_count\"),\n",
    "        sum(\"amount\").alias(\"amount_sum\"),\n",
    "        sum(when(col(\"is_fraud\") == 1, 1).otherwise(0)).alias(\"fraud_count\"),\n",
    "        sum(when(col(\"is_fraud\") == 1, col(\"amount\")).otherwise(0)).alias(\"fraud_amount_sum\"),\n",
    "        avg(\"amount\").alias(\"avg_amount\"),\n",
    "        stddev(\"amount\").alias(\"stddev_amount\"),  # Útil para detección de anomalías\n",
    "        max(\"created_at\").alias(\"last_tx_time\")\n",
    "    )\n",
    "    .withColumn(\"fraud_rate\", \n",
    "        when(col(\"tx_count\") > 0, col(\"fraud_count\") / col(\"tx_count\")).otherwise(0)\n",
    "    )\n",
    "    .withColumn(\"fraud_ratio_amount\", \n",
    "        when(col(\"amount_sum\") > 0, col(\"fraud_amount_sum\") / col(\"amount_sum\")).otherwise(0)\n",
    "    )\n",
    ")\n",
    "\n",
    "# Escribir tabla de hechos (particionada por date_key para rendimiento)\n",
    "(\n",
    "    df_fact_daily\n",
    "    .write\n",
    "    .mode(\"overwrite\")\n",
    "    .partitionBy(\"date_key\")\n",
    "    .option(\"overwriteSchema\", \"true\")\n",
    "    .saveAsTable(gold_fact_table)\n",
    ")\n",
    "\n",
    "print(f\"✅ Tabla de hechos guardada: {gold_fact_table}\")\n",
    "\n",
    "# --- 4. Crear Dimensión: Merchants ---\n",
    "print(\"\\n\uD83C\uDFF7️ Construyendo dimensión: dim_merchant...\")\n",
    "\n",
    "df_dim_merchant = (\n",
    "    df_silver\n",
    "    .groupBy(\"merchant_id\")\n",
    "    .agg(\n",
    "        count(\"*\").alias(\"total_tx_last_30d\"),\n",
    "        sum(\"amount\").alias(\"total_amount_last_30d\"),\n",
    "        avg(\"amount\").alias(\"avg_amount\"),\n",
    "        stddev(\"amount\").alias(\"stddev_amount\"),\n",
    "        sum(col(\"is_fraud\")).alias(\"fraud_count_last_30d\"),\n",
    "        max(\"created_at\").alias(\"last_tx_date\"),\n",
    "        max(\"merchant_lat\").alias(\"merchant_lat\"),  # Asumimos que no cambia\n",
    "        max(\"merchant_lon\").alias(\"merchant_lon\")\n",
    "    )\n",
    "    .withColumn(\"fraud_rate\", \n",
    "        when(col(\"total_tx_last_30d\") > 0, \n",
    "             col(\"fraud_count_last_30d\") / col(\"total_tx_last_30d\")\n",
    "        ).otherwise(0)\n",
    "    )\n",
    "    .withColumn(\"risk_tier\", \n",
    "        when(col(\"fraud_rate\") > 0.05, \"high\")\n",
    "        .when(col(\"fraud_rate\") > 0.01, \"medium\")\n",
    "        .otherwise(\"low\")\n",
    "    )\n",
    ")\n",
    "\n",
    "# Escribir dimensión\n",
    "(\n",
    "    df_dim_merchant\n",
    "    .write\n",
    "    .mode(\"overwrite\")\n",
    "    .option(\"overwriteSchema\", \"true\")\n",
    "    .saveAsTable(gold_dim_merchant_table)\n",
    ")\n",
    "\n",
    "print(f\"✅ Dimensión guardada: {gold_dim_merchant_table}\")\n",
    "\n",
    "# --- 5. Crear Dimensión: Payers ---\n",
    "print(\"\\n\uD83C\uDFF7️ Construyendo dimensión: dim_payer...\")\n",
    "\n",
    "df_dim_payer = (\n",
    "    df_silver\n",
    "    .groupBy(\"payer_id\")\n",
    "    .agg(\n",
    "        count(\"*\").alias(\"total_tx_last_30d\"),\n",
    "        sum(\"amount\").alias(\"total_amount_last_30d\"),\n",
    "        avg(\"amount\").alias(\"avg_amount\"),\n",
    "        sum(col(\"is_fraud\")).alias(\"fraud_count_last_30d\"),\n",
    "        max(\"created_at\").alias(\"last_tx_date\")\n",
    "    )\n",
    "    .withColumn(\"fraud_rate\", \n",
    "        when(col(\"total_tx_last_30d\") > 0, \n",
    "             col(\"fraud_count_last_30d\") / col(\"total_tx_last_30d\")\n",
    "        ).otherwise(0)\n",
    "    )\n",
    "    .withColumn(\"segment\", \n",
    "        when(col(\"total_amount_last_30d\") > 100000, \"vip\")\n",
    "        .when(col(\"total_amount_last_30d\") > 10000, \"regular\")\n",
    "        .otherwise(\"new\")\n",
    "    )\n",
    ")\n",
    "\n",
    "(\n",
    "    df_dim_payer\n",
    "    .write\n",
    "    .mode(\"overwrite\")\n",
    "    .option(\"overwriteSchema\", \"true\")\n",
    "    .saveAsTable(gold_dim_payer_table)\n",
    ")\n",
    "\n",
    "print(f\"✅ Dimensión guardada: {gold_dim_payer_table}\")\n",
    "\n",
    "# --- 6. Crear Vista para BI: dash_daily_kpis ---\n",
    "print(\"\\n\uD83D\uDCC8 Creando vista para BI: dash_daily_kpis...\")\n",
    "\n",
    "df_dash_kpis = (\n",
    "    spark.table(gold_fact_table)\n",
    "    .select(\n",
    "        \"date_key\",\n",
    "        \"tx_count\",\n",
    "        \"fraud_count\",\n",
    "        \"amount_sum\",\n",
    "        \"fraud_amount_sum\",\n",
    "        \"fraud_rate\",\n",
    "        \"fraud_ratio_amount\",\n",
    "        \"channel\",\n",
    "        \"qr_type\"\n",
    "    )\n",
    "    .withColumn(\"expected_loss\", col(\"fraud_ratio_amount\") * col(\"amount_sum\"))\n",
    ")\n",
    "\n",
    "(\n",
    "    df_dash_kpis\n",
    "    .write\n",
    "    .mode(\"overwrite\")\n",
    "    .option(\"overwriteSchema\", \"true\")\n",
    "    .saveAsTable(gold_dash_table)\n",
    ")\n",
    "\n",
    "print(f\"✅ Vista para BI guardada: {gold_dash_table}\")\n",
    "\n",
    "# --- 7. Verificación Final ---\n",
    "print(\"\\n\uD83D\uDD0D Muestra de fact_qr_tx_daily:\")\n",
    "spark.table(gold_fact_table).limit(5).display()\n",
    "\n",
    "print(f\"\\n\uD83D\uDCCA Total días en fact_qr_tx_daily: {spark.table(gold_fact_table).select('date_key').distinct().count()}\")\n",
    "\n",
    "print(\"\\n\uD83D\uDD0D Muestra de dim_merchant:\")\n",
    "spark.table(gold_dim_merchant_table).limit(5).display()\n",
    "\n",
    "print(\"\\n\uD83D\uDD0D Muestra de dash_daily_kpis:\")\n",
    "spark.table(gold_dash_table).limit(5).display()"
   ]
  }
 ],
 "metadata": {
  "application/vnd.databricks.v1+notebook": {
   "computePreferences": null,
   "dashboards": [],
   "environmentMetadata": {
    "base_environment": "",
    "environment_version": "3"
   },
   "inputWidgetPreferences": null,
   "language": "python",
   "notebookMetadata": {
    "pythonIndentUnit": 4
   },
   "notebookName": "04_Gold_Aggregations.ipynb",
   "widgets": {}
  },
  "language_info": {
   "name": "python"
  }
 },
 "nbformat": 4,
 "nbformat_minor": 0
}
