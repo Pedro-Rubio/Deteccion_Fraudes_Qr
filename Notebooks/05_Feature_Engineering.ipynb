{
 "cells": [
  {
   "cell_type": "code",
   "execution_count": 0,
   "metadata": {
    "application/vnd.databricks.v1+cell": {
     "cellMetadata": {
      "byteLimit": 2048000,
      "rowLimit": 10000
     },
     "inputWidgets": {},
     "nuid": "af1aeda8-2e3f-444e-b1c7-f76e2458cb8c",
     "showTitle": false,
     "tableResultSettingsMap": {},
     "title": ""
    }
   },
   "outputs": [
    {
     "output_type": "stream",
     "name": "stdout",
     "output_type": "stream",
     "text": [
      "Collecting haversine\n  Downloading haversine-2.9.0-py2.py3-none-any.whl.metadata (5.8 kB)\nDownloading haversine-2.9.0-py2.py3-none-any.whl (7.7 kB)\nInstalling collected packages: haversine\nSuccessfully installed haversine-2.9.0\n\u001B[43mNote: you may need to restart the kernel using %restart_python or dbutils.library.restartPython() to use updated packages.\u001B[0m\n"
     ]
    }
   ],
   "source": [
    "# Databricks notebook cell\n",
    "%pip install haversine"
   ]
  },
  {
   "cell_type": "code",
   "execution_count": 0,
   "metadata": {
    "application/vnd.databricks.v1+cell": {
     "cellMetadata": {
      "byteLimit": 2048000,
      "rowLimit": 10000
     },
     "inputWidgets": {},
     "nuid": "d802fb71-24ad-4af6-8972-4477d29b2018",
     "showTitle": false,
     "tableResultSettingsMap": {},
     "title": ""
    }
   },
   "outputs": [
    {
     "output_type": "stream",
     "name": "stdout",
     "output_type": "stream",
     "text": [
      "\uD83D\uDCD6 Leyendo datos limpios desde: fraude_qr.silver.qr_transactions\n✍️ Tabla de features de destino: fraude_qr.features.qr_tx_features_v1\n\n✨ Calculando nuevas características...\n✅ Feature 'distance_km' creada.\n✅ Features de ventanas de tiempo (velocidad) creadas.\n✅ Feature de Z-Score del monto creada.\n\n\uD83D\uDCCB Esquema final de la tabla de features:\nroot\n |-- tx_id: long (nullable = false)\n |-- created_at: timestamp (nullable = true)\n |-- transaction_date: date (nullable = true)\n |-- amount: double (nullable = false)\n |-- distance_km: double (nullable = false)\n |-- payer_tx_count_1h: long (nullable = false)\n |-- payer_tx_count_24h: long (nullable = false)\n |-- amount_zscore_payer_7d: double (nullable = false)\n |-- merchant_id: long (nullable = false)\n |-- mcc: long (nullable = false)\n |-- is_fraud: integer (nullable = false)\n\n\n\uD83D\uDCBE Escribiendo en la tabla de features: fraude_qr.features.qr_tx_features_v1\n\uD83C\uDF89 ¡Tabla de features creada exitosamente!\n\n\uD83D\uDD0D Muestra de datos en fraude_qr.features.qr_tx_features_v1:\n"
     ]
    },
    {
     "output_type": "display_data",
     "data": {
      "text/html": [
       "<style scoped>\n",
       "  .table-result-container {\n",
       "    max-height: 300px;\n",
       "    overflow: auto;\n",
       "  }\n",
       "  table, th, td {\n",
       "    border: 1px solid black;\n",
       "    border-collapse: collapse;\n",
       "  }\n",
       "  th, td {\n",
       "    padding: 5px;\n",
       "  }\n",
       "  th {\n",
       "    text-align: left;\n",
       "  }\n",
       "</style><div class='table-result-container'><table class='table-result'><thead style='background-color: white'><tr><th>tx_id</th><th>created_at</th><th>transaction_date</th><th>amount</th><th>distance_km</th><th>payer_tx_count_1h</th><th>payer_tx_count_24h</th><th>amount_zscore_payer_7d</th><th>merchant_id</th><th>mcc</th><th>is_fraud</th></tr></thead><tbody><tr><td>84850007</td><td>1970-01-04T12:00:00.000Z</td><td>1970-01-04</td><td>4830219.15</td><td>123.59099254865092</td><td>1</td><td>1</td><td>4.504058368929395</td><td>1850</td><td>5567</td><td>1</td></tr><tr><td>94900007</td><td>1970-01-04T22:00:00.000Z</td><td>1970-01-04</td><td>15972.31</td><td>141.1017614227</td><td>1</td><td>2</td><td>-0.32564851939007466</td><td>8971</td><td>4905</td><td>0</td></tr><tr><td>94650025</td><td>1970-01-04T22:00:00.000Z</td><td>1970-01-04</td><td>139393.35</td><td>137.1816839643395</td><td>1</td><td>1</td><td>-0.043848563682035005</td><td>1926</td><td>5567</td><td>0</td></tr><tr><td>95850025</td><td>1970-01-04T23:00:00.000Z</td><td>1970-01-04</td><td>80125.39</td><td>105.64726022448062</td><td>2</td><td>2</td><td>-0.4077193043434227</td><td>708</td><td>7312</td><td>0</td></tr><tr><td>94800048</td><td>1970-01-04T22:00:00.000Z</td><td>1970-01-04</td><td>65581.7</td><td>106.64751968702099</td><td>1</td><td>1</td><td>-0.7529262598847426</td><td>1692</td><td>7312</td><td>0</td></tr><tr><td>93000093</td><td>1970-01-04T21:00:00.000Z</td><td>1970-01-04</td><td>195903.67</td><td>36.02813179725994</td><td>1</td><td>1</td><td>-0.1934656255722805</td><td>3158</td><td>7312</td><td>0</td></tr><tr><td>93800116</td><td>1970-01-04T21:00:00.000Z</td><td>1970-01-04</td><td>40084.81</td><td>72.52474735185565</td><td>1</td><td>1</td><td>-0.5479812725239606</td><td>388</td><td>7312</td><td>0</td></tr><tr><td>95100158</td><td>1970-01-04T23:00:00.000Z</td><td>1970-01-04</td><td>11920.72</td><td>35.44015984480222</td><td>1</td><td>1</td><td>-0.8250055419368838</td><td>9089</td><td>4905</td><td>0</td></tr><tr><td>94900186</td><td>1970-01-04T22:00:00.000Z</td><td>1970-01-04</td><td>5706.15</td><td>138.81092770468643</td><td>1</td><td>1</td><td>-0.5350709852521653</td><td>1777</td><td>4905</td><td>0</td></tr><tr><td>94200191</td><td>1970-01-04T22:00:00.000Z</td><td>1970-01-04</td><td>135.23</td><td>90.3977491727163</td><td>1</td><td>1</td><td>-0.7180853197511361</td><td>9437</td><td>4905</td><td>0</td></tr></tbody></table></div>"
      ]
     },
     "metadata": {
      "application/vnd.databricks.v1+output": {
       "addedWidgets": {},
       "aggData": [],
       "aggError": "",
       "aggOverflow": false,
       "aggSchema": [],
       "aggSeriesLimitReached": false,
       "aggType": "",
       "arguments": {},
       "columnCustomDisplayInfos": {},
       "data": [
        [
         84850007,
         "1970-01-04T12:00:00.000Z",
         "1970-01-04",
         4830219.15,
         123.59099254865092,
         1,
         1,
         4.504058368929395,
         1850,
         5567,
         1
        ],
        [
         94900007,
         "1970-01-04T22:00:00.000Z",
         "1970-01-04",
         15972.31,
         141.1017614227,
         1,
         2,
         -0.32564851939007466,
         8971,
         4905,
         0
        ],
        [
         94650025,
         "1970-01-04T22:00:00.000Z",
         "1970-01-04",
         139393.35,
         137.1816839643395,
         1,
         1,
         -0.043848563682035005,
         1926,
         5567,
         0
        ],
        [
         95850025,
         "1970-01-04T23:00:00.000Z",
         "1970-01-04",
         80125.39,
         105.64726022448062,
         2,
         2,
         -0.4077193043434227,
         708,
         7312,
         0
        ],
        [
         94800048,
         "1970-01-04T22:00:00.000Z",
         "1970-01-04",
         65581.7,
         106.64751968702099,
         1,
         1,
         -0.7529262598847426,
         1692,
         7312,
         0
        ],
        [
         93000093,
         "1970-01-04T21:00:00.000Z",
         "1970-01-04",
         195903.67,
         36.02813179725994,
         1,
         1,
         -0.1934656255722805,
         3158,
         7312,
         0
        ],
        [
         93800116,
         "1970-01-04T21:00:00.000Z",
         "1970-01-04",
         40084.81,
         72.52474735185565,
         1,
         1,
         -0.5479812725239606,
         388,
         7312,
         0
        ],
        [
         95100158,
         "1970-01-04T23:00:00.000Z",
         "1970-01-04",
         11920.72,
         35.44015984480222,
         1,
         1,
         -0.8250055419368838,
         9089,
         4905,
         0
        ],
        [
         94900186,
         "1970-01-04T22:00:00.000Z",
         "1970-01-04",
         5706.15,
         138.81092770468643,
         1,
         1,
         -0.5350709852521653,
         1777,
         4905,
         0
        ],
        [
         94200191,
         "1970-01-04T22:00:00.000Z",
         "1970-01-04",
         135.23,
         90.3977491727163,
         1,
         1,
         -0.7180853197511361,
         9437,
         4905,
         0
        ]
       ],
       "datasetInfos": [],
       "dbfsResultPath": null,
       "isJsonSchema": true,
       "metadata": {},
       "overflow": false,
       "plotOptions": {
        "customPlotOptions": {},
        "displayType": "table",
        "pivotAggregation": null,
        "pivotColumns": null,
        "xColumns": null,
        "yColumns": null
       },
       "removedWidgets": [],
       "schema": [
        {
         "metadata": "{}",
         "name": "tx_id",
         "type": "\"long\""
        },
        {
         "metadata": "{}",
         "name": "created_at",
         "type": "\"timestamp\""
        },
        {
         "metadata": "{}",
         "name": "transaction_date",
         "type": "\"date\""
        },
        {
         "metadata": "{}",
         "name": "amount",
         "type": "\"double\""
        },
        {
         "metadata": "{}",
         "name": "distance_km",
         "type": "\"double\""
        },
        {
         "metadata": "{}",
         "name": "payer_tx_count_1h",
         "type": "\"long\""
        },
        {
         "metadata": "{}",
         "name": "payer_tx_count_24h",
         "type": "\"long\""
        },
        {
         "metadata": "{}",
         "name": "amount_zscore_payer_7d",
         "type": "\"double\""
        },
        {
         "metadata": "{}",
         "name": "merchant_id",
         "type": "\"long\""
        },
        {
         "metadata": "{}",
         "name": "mcc",
         "type": "\"long\""
        },
        {
         "metadata": "{}",
         "name": "is_fraud",
         "type": "\"integer\""
        }
       ],
       "type": "table"
      }
     },
     "output_type": "display_data"
    }
   ],
   "source": [
    "# MAGIC %md\n",
    "# MAGIC # \uD83D\uDEE0️ 04_Feature_Engineering\n",
    "# MAGIC Crea características (features) predictivas a partir de los datos limpios de la capa Silver.\n",
    "# MAGIC - Lee desde `fraude_qr.silver.qr_transactions`.\n",
    "# MAGIC - Calcula features temporales (ventanas de tiempo), geográficas (distancia) y de comportamiento.\n",
    "# MAGIC - Escribe el resultado en una tabla versionada: `fraude_qr.features.qr_tx_features_v1`.\n",
    "\n",
    "# COMMAND ----------\n",
    "\n",
    "from pyspark.sql.functions import col, lit, avg, stddev, count, when, udf\n",
    "from pyspark.sql.window import Window\n",
    "from pyspark.sql.types import DoubleType\n",
    "from haversine import haversine\n",
    "\n",
    "# --- 1. Configuración ---\n",
    "silver_table = \"fraude_qr.silver.qr_transactions\"\n",
    "feature_table = \"fraude_qr.features.qr_tx_features_v1\"\n",
    "\n",
    "print(f\"\uD83D\uDCD6 Leyendo datos limpios desde: {silver_table}\")\n",
    "print(f\"✍️ Tabla de features de destino: {feature_table}\")\n",
    "\n",
    "# --- 2. Cargar Datos Limpios ---\n",
    "df = spark.table(silver_table)\n",
    "\n",
    "# --- 3. Creación de Features ---\n",
    "print(\"\\n✨ Calculando nuevas características...\")\n",
    "\n",
    "# 3.1 Feature Geográfica: Distancia Payer-Merchant\n",
    "# Creamos una UDF (User-Defined Function) para calcular la distancia Haversine.\n",
    "def haversine_distance(lat1, lon1, lat2, lon2):\n",
    "    if lat1 is None or lon1 is None or lat2 is None or lon2 is None:\n",
    "        return None\n",
    "    return haversine((lat1, lon1), (lat2, lon2))\n",
    "\n",
    "# Registramos la UDF para usarla en Spark\n",
    "haversine_udf = udf(haversine_distance, DoubleType())\n",
    "\n",
    "df_features = df.withColumn(\n",
    "    \"distance_km\",\n",
    "    haversine_udf(col(\"payer_lat\"), col(\"payer_lon\"), col(\"merchant_lat\"), col(\"merchant_lon\"))\n",
    ")\n",
    "print(\"✅ Feature 'distance_km' creada.\")\n",
    "\n",
    "# 3.2 Features Temporales (Ventanas de Tiempo)\n",
    "# Definimos las ventanas que mirarán hacia atrás desde cada transacción.\n",
    "window_1h = Window.partitionBy(\"payer_id\").orderBy(col(\"created_at\").cast(\"long\")).rangeBetween(-3600, 0)\n",
    "window_24h = Window.partitionBy(\"payer_id\").orderBy(col(\"created_at\").cast(\"long\")).rangeBetween(-86400, 0)\n",
    "window_7d = Window.partitionBy(\"payer_id\").orderBy(col(\"created_at\").cast(\"long\")).rangeBetween(-604800, 0)\n",
    "\n",
    "df_features = (\n",
    "    df_features\n",
    "    # Contar transacciones del pagador en la última hora y 24 horas\n",
    "    .withColumn(\"payer_tx_count_1h\", count(\"tx_id\").over(window_1h))\n",
    "    .withColumn(\"payer_tx_count_24h\", count(\"tx_id\").over(window_24h))\n",
    "    # Calcular el monto promedio del pagador en los últimos 7 días\n",
    "    .withColumn(\"avg_amount_payer_7d\", avg(\"amount\").over(window_7d))\n",
    "    # Calcular la desviación estándar del monto del pagador en los últimos 7 días\n",
    "    .withColumn(\"stddev_amount_payer_7d\", stddev(\"amount\").over(window_7d))\n",
    ")\n",
    "print(\"✅ Features de ventanas de tiempo (velocidad) creadas.\")\n",
    "\n",
    "# 3.3 Features de Comportamiento (Z-Score del Monto)\n",
    "# El Z-Score nos dice cuántas desviaciones estándar un monto está por encima o por debajo del promedio.\n",
    "# Un Z-Score alto puede indicar una anomalía.\n",
    "df_features = df_features.withColumn(\n",
    "    \"amount_zscore_payer_7d\",\n",
    "    when(\n",
    "        col(\"stddev_amount_payer_7d\") > 0,\n",
    "        (col(\"amount\") - col(\"avg_amount_payer_7d\")) / col(\"stddev_amount_payer_7d\")\n",
    "    ).otherwise(0) # Si no hay desviación, el Z-Score es 0.\n",
    ")\n",
    "print(\"✅ Feature de Z-Score del monto creada.\")\n",
    "\n",
    "# --- 4. Selección Final de Features y Target ---\n",
    "# Elegimos solo las columnas que serán útiles para el modelo.\n",
    "df_final_features = df_features.select(\n",
    "    \"tx_id\",\n",
    "    \"created_at\",\n",
    "    \"transaction_date\", # Importante para particionar\n",
    "    \"amount\",\n",
    "    # Features Creadas\n",
    "    \"distance_km\",\n",
    "    \"payer_tx_count_1h\",\n",
    "    \"payer_tx_count_24h\",\n",
    "    \"amount_zscore_payer_7d\",\n",
    "    # Columnas Originales útiles\n",
    "    \"merchant_id\", # Para agrupar en el entrenamiento (GroupKFold)\n",
    "    \"mcc\",\n",
    "    # Target (La variable que queremos predecir)\n",
    "    \"is_fraud\"\n",
    ").fillna(0) # Rellenamos los nulos restantes con 0\n",
    "\n",
    "print(\"\\n\uD83D\uDCCB Esquema final de la tabla de features:\")\n",
    "df_final_features.printSchema()\n",
    "\n",
    "# --- 5. Escribir en la Tabla de Features (Feature Store) ---\n",
    "print(f\"\\n\uD83D\uDCBE Escribiendo en la tabla de features: {feature_table}\")\n",
    "\n",
    "(\n",
    "    df_final_features\n",
    "    .write\n",
    "    .mode(\"overwrite\")\n",
    "    .partitionBy(\"transaction_date\")\n",
    "    .option(\"overwriteSchema\", \"true\")\n",
    "    .saveAsTable(feature_table)\n",
    ")\n",
    "\n",
    "print(\"\uD83C\uDF89 ¡Tabla de features creada exitosamente!\")\n",
    "\n",
    "# --- 6. Verificación ---\n",
    "print(f\"\\n\uD83D\uDD0D Muestra de datos en {feature_table}:\")\n",
    "spark.table(feature_table).limit(10).display()"
   ]
  }
 ],
 "metadata": {
  "application/vnd.databricks.v1+notebook": {
   "computePreferences": null,
   "dashboards": [],
   "environmentMetadata": {
    "base_environment": "",
    "environment_version": "3"
   },
   "inputWidgetPreferences": null,
   "language": "python",
   "notebookMetadata": {
    "mostRecentlyExecutedCommandWithImplicitDF": {
     "commandId": 8341375209016183,
     "dataframes": [
      "_sqldf"
     ]
    },
    "pythonIndentUnit": 4
   },
   "notebookName": "05_Feature_Engineering",
   "widgets": {}
  },
  "language_info": {
   "name": "python"
  }
 },
 "nbformat": 4,
 "nbformat_minor": 0
}
